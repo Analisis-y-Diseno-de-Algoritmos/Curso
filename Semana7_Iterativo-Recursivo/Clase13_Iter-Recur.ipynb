{
 "cells": [
  {
   "cell_type": "markdown",
   "id": "637efc00",
   "metadata": {},
   "source": [
    "# Programación *iterativa* y *recursiva*"
   ]
  },
  {
   "cell_type": "markdown",
   "id": "e8daad6e",
   "metadata": {},
   "source": [
    "\n",
    "En programación, **recursión** y **iteración** son dos estilos para construir soluciones repetitivas:\n",
    "\n",
    "- **Recursiva**: una función se llama a sí misma sobre subproblemas más pequeños hasta llegar a un *caso base*.\n",
    "  - *Ventajas*: código muy claro para estructuras autorreferenciales.\n",
    "  - *Desventajas*: sobrecosto de llamadas, puede repetir trabajo y ser exponencial si no se memorizan resultados.\n",
    "\n",
    "- **Iterativa**: se usa un bucle (`for`/`while`) que actualiza variables paso a paso.\n",
    "  - *Ventajas*: suele ser más eficiente en tiempo y memoria; control explícito de paradas; evita límite de recursión.\n",
    "  - *Desventajas*: a veces el código es menos directo o elegante que su versión recursiva.\n",
    "\n",
    "En problemas de **sucesiones** definidas recursivamente (por ejemplo, $a_{n+1}=f(a_n)$), el enfoque iterativo es natural; sin embargo, la recursión permite expresar algunos procesos de manera muy compacta (por ejemplo, la sucesión de Fibonacci)."
   ]
  },
  {
   "cell_type": "markdown",
   "id": "e1fd1168",
   "metadata": {},
   "source": [
    "## Ejemplo: Sucesión de Fibonacci\n",
    "La sucesión de Fibonacci $F_n$ está dada por $F_0=0$, $F_1=1$ y $F_{n+1}=F_n+F_{n-1}$.\n",
    "\n",
    "###  Implementación recursiva (ingenua)\n",
    "La versión recursiva directa recalcula muchos subproblemas y su complejidad es exponencial."
   ]
  },
  {
   "cell_type": "code",
   "execution_count": 2,
   "id": "79688c7f",
   "metadata": {},
   "outputs": [],
   "source": [
    "def fibonacci_recursivo(n: int) -> int:\n",
    "    \"\"\"Versión recursiva ingenua de Fibonacci.\n",
    "    PRE: n >= 0.\n",
    "    \"\"\"\n",
    "    if n < 0:\n",
    "        raise ValueError(\"n debe ser no negativo\")\n",
    "    if n in (0, 1):\n",
    "        return n\n",
    "    return fibonacci_recursivo(n-1) + fibonacci_recursivo(n-2)"
   ]
  },
  {
   "cell_type": "code",
   "execution_count": 7,
   "id": "b8be1ca0",
   "metadata": {},
   "outputs": [
    {
     "data": {
      "text/plain": [
       "55"
      ]
     },
     "execution_count": 7,
     "metadata": {},
     "output_type": "execute_result"
    }
   ],
   "source": [
    "fibonacci_recursivo(10)  # 55"
   ]
  },
  {
   "cell_type": "markdown",
   "id": "3c3a97b7",
   "metadata": {},
   "source": [
    "## Implementación iterativa\n",
    "La versión iterativa hace una sola pasada."
   ]
  },
  {
   "cell_type": "code",
   "execution_count": 4,
   "id": "7654e65a",
   "metadata": {},
   "outputs": [],
   "source": [
    "def fibonacci_iterativo(n: int) -> int:\n",
    "    \"\"\"Versión iterativa de Fibonacci. Complejidad O(n).\"\"\"\n",
    "    if n < 0:\n",
    "        raise ValueError(\"n debe ser no negativo\")\n",
    "    a, b = 0, 1\n",
    "    for _ in range(n):\n",
    "        a, b = b, a + b\n",
    "    return a\n",
    "\n",
    "def lista_fibonacci(n: int) -> list:\n",
    "    \"\"\"Devuelve [F_0, ..., F_n].\"\"\"\n",
    "    return [fibonacci_iterativo(k) for k in range(n+1)]\n"
   ]
  },
  {
   "cell_type": "code",
   "execution_count": 5,
   "id": "2a1a9012",
   "metadata": {},
   "outputs": [
    {
     "data": {
      "text/plain": [
       "[0, 1, 1, 2, 3, 5, 8, 13, 21, 34, 55]"
      ]
     },
     "execution_count": 5,
     "metadata": {},
     "output_type": "execute_result"
    }
   ],
   "source": [
    "lista_fibonacci(10)  # [0, 1, 1, 2, 3, 5, 8, 13, 21, 34, 55]"
   ]
  },
  {
   "cell_type": "markdown",
   "id": "2dab6aec",
   "metadata": {},
   "source": [
    "### Comparación empírica simple\n",
    "Medimos tiempos para $n=30$ (recursivo ingenuo vs. iterativo)."
   ]
  },
  {
   "cell_type": "code",
   "execution_count": 10,
   "id": "940eb64c",
   "metadata": {},
   "outputs": [
    {
     "name": "stdout",
     "output_type": "stream",
     "text": [
      "F_30 = 832040\n",
      "Recursivo ingenuo:   0.1949 s\n",
      "Iterativo:            0.000004 s\n"
     ]
    }
   ],
   "source": [
    "import time\n",
    "\n",
    "def medir_tiempo(func, *args):\n",
    "    t0 = time.perf_counter()\n",
    "    res = func(*args)\n",
    "    t1 = time.perf_counter()\n",
    "    return res, (t1 - t0)\n",
    "\n",
    "n_prueba = 30\n",
    "res1, t1 = medir_tiempo(fibonacci_recursivo, n_prueba)\n",
    "res3, t3 = medir_tiempo(fibonacci_iterativo, n_prueba)\n",
    "\n",
    "print(f\"F_{n_prueba} = {res3}\")\n",
    "print(\"Recursivo ingenuo:   {:.4f} s\".format(t1))\n",
    "print(\"Iterativo:            {:.6f} s\".format(t3))\n"
   ]
  },
  {
   "cell_type": "markdown",
   "id": "b8372a18",
   "metadata": {},
   "source": [
    "## Herramientas generales para sucesiones\n",
    "Usaremos un *criterio numérico de convergencia*: detener cuando $|x_{n+1}-x_n|<\\text{tolerancia}$, y siempre con un **máximo de iteraciones** para evitar bucles infinitos si la sucesión no converge (o converge muy lentamente). También permitiremos un *criterio objetivo* opcional, por ejemplo, detener cuando $|x_n - L|<\\text{tolerancia}$ para un límite esperado $L$."
   ]
  },
  {
   "cell_type": "code",
   "execution_count": 12,
   "id": "6d7e6b3b",
   "metadata": {},
   "outputs": [],
   "source": [
    "\n",
    "import numpy as np\n",
    "import matplotlib.pyplot as plt\n",
    "\n",
    "def iterar_hasta_convergencia(\n",
    "    f,\n",
    "    x0: float,\n",
    "    tolerancia: float = 1e-8,\n",
    "    max_iter: int = 1000\n",
    ") -> list[float]:\n",
    "    \"\"\"\n",
    "    Itera x_{n+1} = f(n, x_n) desde x0 y devuelve (trayectoria, n_convergencia).\n",
    "    \"\"\"\n",
    "    xs = [x0]\n",
    "    x = x0\n",
    "    for n in range(max_iter):\n",
    "        xn1 = f(n, x)\n",
    "        xs.append(xn1)\n",
    "        if abs(xn1 - x) < tolerancia:\n",
    "            return xs, n+1\n",
    "        x = xn1\n",
    "    return xs, None\n",
    "\n",
    "def graficar_sucesion(valores: list[float], titulo: str = \"Sucesión\") -> None:\n",
    "    \"\"\"Grafica los términos de una sucesión. No fija estilos ni colores específicos.\"\"\"\n",
    "    plt.figure()\n",
    "    plt.plot(range(len(valores)), valores, marker='o')\n",
    "    plt.title(titulo)\n",
    "    plt.xlabel('n')\n",
    "    plt.ylabel('a_n')\n",
    "    plt.grid(True)\n",
    "    plt.show()"
   ]
  },
  {
   "cell_type": "markdown",
   "id": "6e97bba9",
   "metadata": {},
   "source": [
    "##  Ejercicio 1\n",
    "\n",
    "Usa las siguientes sucesiones definidas recursivamente:\n",
    "\n",
    "a) $x_1=1$ y $x_{n+1}=3x_n+1$.\n",
    "\n",
    "b) $y_1=2$ y $y_{n+1}=\\tfrac{1}{2}\\big(y_n+\\tfrac{2}{y_n}\\big)$.\n",
    "\n",
    "c) $z_1=1$, $z_2=2$ y $z_{n+2}=\\dfrac{z_{n+1}+z_n}{\\,z_{n+1}-z_n\\,}$.\n",
    "\n",
    "\n",
    "1) Programa cada sucesión (iterativamente) y lista sus primeros 100 términos.\n",
    "\n",
    "2) Grafica los 100 términos de cada sucesión."
   ]
  },
  {
   "cell_type": "code",
   "execution_count": null,
   "id": "5b783fe0",
   "metadata": {},
   "outputs": [],
   "source": []
  },
  {
   "cell_type": "markdown",
   "id": "8f1fc8cd",
   "metadata": {},
   "source": [
    "## Ejercicio 2\n",
    "\n",
    "Verifique que:\n",
    "\n",
    "a) $\\displaystyle \\lim_{n\\to\\infty} \\sqrt[n]{n+1} = 1$.\n",
    "\n",
    "b) $\\displaystyle \\lim_{n\\to\\infty} \\sqrt[n]{a^n + b^n} = max\\{a,b\\}$.\n",
    "\n",
    "Implemente numéricamente ambas expresiones y **detenga** cuando el valor estimado cumpla el criterio de tolerancia (`tolerancia`) o cuando alcance `max_iter`. Reporte el número de iteraciones usadas."
   ]
  },
  {
   "cell_type": "code",
   "execution_count": null,
   "id": "3ece42c8",
   "metadata": {},
   "outputs": [],
   "source": []
  },
  {
   "cell_type": "markdown",
   "id": "47d08e3e",
   "metadata": {},
   "source": [
    "##  Ejercicio 3\n",
    "\n",
    "Sea $(a_n)$ la sucesión de Fibonacci. Verifique que $\\dfrac{a_{n+1}}{a_n}$ **converge al número áureo** $\\varphi=\\tfrac{1+\\sqrt{5}}{2}$.\n",
    "\n",
    "Implemente $\\dfrac{a_{n+1}}{a_n}$ y detenga cuando $\\big|\\dfrac{a_{n+1}}{a_n}-\\varphi\\big|<\\text{tolerancia}$ (criterio *objetivo* con $\\varphi$) o al llegar a `max_iter`. Sugerencia: inicie en $a_1=1,a_2=1$ y evite división entre cero."
   ]
  },
  {
   "cell_type": "code",
   "execution_count": null,
   "id": "b195293d",
   "metadata": {},
   "outputs": [],
   "source": []
  },
  {
   "cell_type": "markdown",
   "id": "4e4f1584",
   "metadata": {},
   "source": [
    "## Ejercicio 4\n",
    "\n",
    " Sea $a_1\\in(0,1)$ y $a_{n+1}=a_n(1-a_n)$. Queremos ver que **$(n\\,a_n)$ converge a $1$**.\n",
    "\n",
    "Implemente la sucesión y grafique: (i) $a_n$ y (ii) $n\\,a_n$. Use tolerancia para el *objetivo* $|n\\,a_n-1|<\\text{tol}$ y un `max_iter` para controlar el proceso."
   ]
  },
  {
   "cell_type": "code",
   "execution_count": null,
   "id": "9c90abb0",
   "metadata": {},
   "outputs": [],
   "source": []
  },
  {
   "cell_type": "markdown",
   "id": "302b6873",
   "metadata": {},
   "source": [
    "## Ejercicio 5\n",
    "\n",
    "Sea $a_1=2$ y $a_{n+1}=\\dfrac{1}{2}\\Big(a_n+\\dfrac{2}{a_n}\\Big)$. Verifica que $(a_n)$ es *decreciente* y *acotada inferiormente* por $\\sqrt{2}$; más aún, la sucesión **converge a $\\sqrt{2}$**. *Modifique* esta construcción para obtener una sucesión que converge a $\\sqrt{c}$.\n",
    "\n",
    "Implemente la iteración de Newton para $\\sqrt{2}$ y su versión general para $\\sqrt{c}$. Use `tolerancia` y `max_iter`."
   ]
  },
  {
   "cell_type": "code",
   "execution_count": null,
   "id": "d11b36ff",
   "metadata": {},
   "outputs": [],
   "source": []
  },
  {
   "cell_type": "markdown",
   "id": "ddadad91",
   "metadata": {},
   "source": [
    "## Ejercicio 6\n",
    "\n",
    "Defina recursivamente $a_1=\\tfrac{3}{2}$ y $a_{n+1}=\\sqrt{3a_n-2}$. Verifique que $(a_n)$ **converge** y **calcule su límite**.\n",
    "\n",
    "*(Nota: el criterio numérico debe detener por diferencia consecutiva o por `max_iter`.)*"
   ]
  },
  {
   "cell_type": "code",
   "execution_count": null,
   "id": "4e7be191",
   "metadata": {},
   "outputs": [],
   "source": []
  },
  {
   "cell_type": "markdown",
   "id": "96e78e7e",
   "metadata": {},
   "source": [
    "## Ejercicio 7\n",
    "\n",
    "Defina $a_1=1$ y $a_{n+1}=\\sqrt{1+a_n}$. Verifique que $(a_n)$ **converge** y **calcule su límite**.\n",
    "\n",
    "Implemente la sucesión con tolerancia y máximo de iteraciones; grafique los primeros términos junto con el valor aproximado del límite."
   ]
  }
 ],
 "metadata": {
  "kernelspec": {
   "display_name": "Python 3",
   "language": "python",
   "name": "python3"
  },
  "language_info": {
   "codemirror_mode": {
    "name": "ipython",
    "version": 3
   },
   "file_extension": ".py",
   "mimetype": "text/x-python",
   "name": "python",
   "nbconvert_exporter": "python",
   "pygments_lexer": "ipython3",
   "version": "3.13.1"
  }
 },
 "nbformat": 4,
 "nbformat_minor": 5
}
