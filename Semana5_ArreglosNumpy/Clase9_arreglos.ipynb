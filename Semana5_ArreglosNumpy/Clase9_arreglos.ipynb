{
 "cells": [
  {
   "cell_type": "markdown",
   "id": "e9d14303",
   "metadata": {},
   "source": [
    "# <span style=\"font-family:Georgia; text-align:center;\">Arreglos 1-D y 2-D (listas, NumPy, cadenas)  </span> \n",
    "<span style=\"font-family:Georgia;\">\n"
   ]
  },
  {
   "cell_type": "markdown",
   "id": "af79fe54",
   "metadata": {},
   "source": [
    "<span style=\"font-family:Georgia;\">\n",
    "\n",
    "**Objetivos de aprendizaje**\n",
    "- Entender la **intuición** de trabajar con arreglos unidimensionales (listas de Python y `numpy.ndarray`) y bidimensionales (matrices).\n",
    "- Distinguir las **ventajas** de NumPy frente a las listas nativas al hacer cálculo numérico.\n",
    "- Manipular **cadenas de caracteres** como secuencias (indexado, rebanado y utilidades).\n",
    "- Aplicar operaciones elementales con **matrices** y resolver problemas sencillos de **álgebra matricial**.\n",
    "- Resolver **problemas aplicados** usando las herramientas vistas.\n"
   ]
  },
  {
   "cell_type": "code",
   "execution_count": null,
   "id": "0efd6de1",
   "metadata": {},
   "outputs": [],
   "source": [
    "import numpy as np\n",
    "import matplotlib.pyplot as plt"
   ]
  },
  {
   "cell_type": "markdown",
   "id": "733ca72c",
   "metadata": {},
   "source": [
    "## <span style=\"font-family:Georgia; text-align:center;\">1. Arreglos 1-D: listas y arrays de NumPy</span> "
   ]
  },
  {
   "cell_type": "markdown",
   "id": "617a2939",
   "metadata": {},
   "source": [
    "<span style=\"font-family:Georgia;\">\n",
    "\n",
    "Una **lista** es una secuencia *flexible* que puede guardar combinaciones de tipos. \n",
    "Para cómputo numérico intensivo no es eficiente, pero es ideal para **construir** colecciones y **preprocesar** datos."
   ]
  },
  {
   "cell_type": "code",
   "execution_count": null,
   "id": "ad0bada2",
   "metadata": {},
   "outputs": [
    {
     "name": "stdout",
     "output_type": "stream",
     "text": [
      "lista: [3, 1, 4, 1, 5, 9]\n",
      "len: 6\n",
      "indexado [0], [-1]: 3 9\n",
      "rebanado [1:4]: [1, 4, 1]\n",
      "modificada: [3, 1, 42, 1, 5, 9, 2]\n",
      "cuadrados: [9, 1, 1764, 1, 25, 81, 4]\n",
      "sum(numeros): 63\n"
     ]
    }
   ],
   "source": [
    "# Crear y manipular listas\n",
    "numeros = [3, 1, 4, 1, 5, 9]\n",
    "print(\"lista:\", numeros)\n",
    "print(\"len:\", len(numeros))\n",
    "print(\"indexado [0], [-1]:\", numeros[0], numeros[-1])\n",
    "print(\"rebanado [1:4]:\", numeros[1:4])\n",
    "\n",
    "# Agregar y modificar\n",
    "numeros.append(2)\n",
    "numeros[2] = 42\n",
    "print(\"modificada:\", numeros)\n",
    "\n",
    "# Comprensiones de listas (ejemplo: cuadrados)\n",
    "cuadrados = [x**2 for x in numeros]\n",
    "print(\"cuadrados:\", cuadrados)\n",
    "\n",
    "# Suma \n",
    "print(\"sum(numeros):\", sum(numeros))"
   ]
  },
  {
   "cell_type": "markdown",
   "id": "6f712dcd",
   "metadata": {},
   "source": [
    "<span style=\"font-family:Georgia;\">\n",
    "\n",
    "Un *array de NumPy* es como una regla de números del mismo tipo, optimizado para **cálculo numérico vectorizado**."
   ]
  },
  {
   "cell_type": "code",
   "execution_count": 4,
   "id": "d7bd5a96",
   "metadata": {},
   "outputs": [
    {
     "name": "stdout",
     "output_type": "stream",
     "text": [
      "Tipo: <class 'numpy.ndarray'>\n",
      "Shape: (5,)\n",
      "Vectorización (sumar 1): [19 21 20 23 22]\n",
      "Promedio con NumPy: 20.0\n"
     ]
    }
   ],
   "source": [
    "edades = [18, 20, 19, 22, 21]\n",
    "\n",
    "edades_np = np.array(edades)\n",
    "print(\"Tipo:\", type(edades_np))\n",
    "print(\"Shape:\", edades_np.shape)\n",
    "print(\"Vectorización (sumar 1):\", edades_np + 1)\n",
    "print(\"Promedio con NumPy:\", np.mean(edades_np))"
   ]
  },
  {
   "cell_type": "markdown",
   "id": "3efeeee3",
   "metadata": {},
   "source": [
    "<span style=\"font-family:Georgia;\">\n",
    "\n",
    "**Ejemplo:** temperaturas en Fahrenheit a Celsius."
   ]
  },
  {
   "cell_type": "code",
   "execution_count": 5,
   "id": "9058d3d7",
   "metadata": {},
   "outputs": [
    {
     "name": "stdout",
     "output_type": "stream",
     "text": [
      "C1 (lista): [20.0, 21.11111111111111, 22.22222222222222, 23.88888888888889, 26.666666666666668]\n"
     ]
    }
   ],
   "source": [
    "F = [68, 70, 72, 75, 80]  # lista de Fahrenheit\n",
    "# Con comprensión de listas\n",
    "C1 = [(f - 32)*(5/9) for f in F]\n",
    "print(\"C1 (lista):\", C1)"
   ]
  },
  {
   "cell_type": "markdown",
   "id": "b341a3e4",
   "metadata": {},
   "source": [
    "<span style=\"font-family:Georgia;\">\n",
    "\n",
    "**Ventajas de listas:** sencillas, flexibles, soportan elementos heterogéneos.  \n",
    "**Limitación:** operaciones numéricas element-wise son manuales (bucles), lo que puede ser **lento**."
   ]
  },
  {
   "cell_type": "markdown",
   "id": "4c9af975",
   "metadata": {},
   "source": [
    "## <span style=\"font-family:Georgia; text-align:center;\">Arreglos 1‑D con **NumPy**</span> \n",
    "<span style=\"font-family:Georgia;\">\n",
    "\n",
    "`numpy.ndarray` es un arreglo **homogéneo** (todos los elementos del mismo tipo) y contiguo en memoria.  \n",
    "La gran ventaja es que las operaciones son **vectorizadas** (se aplican a todo el arreglo sin bucles explícitos) y **rápidas**."
   ]
  },
  {
   "cell_type": "code",
   "execution_count": 15,
   "id": "e5367e39",
   "metadata": {},
   "outputs": [
    {
     "name": "stdout",
     "output_type": "stream",
     "text": [
      "x: [3. 1. 4. 1. 5. 9.]\n",
      "dtype: float64\n",
      "x + 10: [13. 11. 14. 11. 15. 19.]\n",
      "x * 2: [ 6.  2.  8.  2. 10. 18.]\n",
      "x + y: [ 5.  8.  5.  9.  7. 17.]\n",
      "x * y: [ 6.  7.  4.  8. 10. 72.]\n",
      "x[x > 3]: [4. 5. 9.]\n"
     ]
    }
   ],
   "source": [
    "# Crear arreglos desde listas\n",
    "x = np.array([3, 1, 4, 1, 5, 9], dtype=float)\n",
    "y = np.array([2, 7, 1, 8, 2, 8], dtype=float)\n",
    "print(\"x:\", x)\n",
    "print(\"dtype:\", x.dtype)\n",
    "\n",
    "# Operaciones vectorizadas\n",
    "print(\"x + 10:\", x + 10)\n",
    "print(\"x * 2:\", x * 2)\n",
    "print(\"x + y:\", x + y)\n",
    "print(\"x * y:\", x * y)  # elemento a elemento\n",
    "\n",
    "# Indexado booleano\n",
    "print(\"x[x > 3]:\", x[x > 3])\n"
   ]
  },
  {
   "cell_type": "markdown",
   "id": "b6e9e59f",
   "metadata": {},
   "source": [
    "<span style=\"font-family:Georgia;\">\n",
    "\n",
    "**Comparación clave:** en listas tendríamos que *iterar*; con NumPy, escribimos la intención y el motor hace el trabajo de manera eficiente."
   ]
  },
  {
   "cell_type": "markdown",
   "id": "45dbe8a5",
   "metadata": {},
   "source": [
    "## <span style=\"font-family:Georgia; text-align:center;\">Cadenas de caracteres como secuencias</span> \n",
    "<span style=\"font-family:Georgia;\"> \n",
    "\n",
    "Una **cadena** es una secuencia inmutable de caracteres. Puedes **indexar** y **rebanar** igual que en listas, \n",
    "y trae muchos **métodos** útiles (`lower`, `split`, `join`, etc.)."
   ]
  },
  {
   "cell_type": "code",
   "execution_count": 21,
   "id": "093fad82",
   "metadata": {},
   "outputs": [
    {
     "name": "stdout",
     "output_type": "stream",
     "text": [
      "s[0], s[-1]: P y\n",
      "s[0:12]: Programación\n",
      "lower(): programación con python y numpy\n",
      "split(): ['programación', 'con', 'python', 'y', 'numpy']\n",
      "'|'.join(palabras): programación|con|python|y|numpy\n",
      "conteo palabras: {'hola': 2, 'cómo': 1, 'va': 1, 'todo': 1, 'python': 3}\n",
      "conteo caracteres de 'aba': {'a': 2, 'b': 1}\n"
     ]
    }
   ],
   "source": [
    "s = \"Programación con Python y NumPy\"\n",
    "print(\"s[0], s[-1]:\", s[0], s[-1])\n",
    "print(\"s[0:12]:\", s[0:12])\n",
    "\n",
    "print(\"lower():\", s.lower())\n",
    "palabras = s.lower().split()\n",
    "print(\"split():\", palabras)\n",
    "print(\"'|'.join(palabras):\", \"|\".join(palabras))\n",
    "\n",
    "def contar_caracteres(cadena: str) -> dict[str, int]:\n",
    "    \"\"\"Cuenta frecuencia de caracteres en una cadena (sensible a mayúsculas/minúsculas).\"\"\"\n",
    "    frec: dict[str, int] = {}\n",
    "    for ch in cadena:\n",
    "        frec[ch] = frec.get(ch, 0) + 1\n",
    "    return frec\n",
    "\n",
    "def contar_palabras(texto: str) -> dict[str, int]:\n",
    "    \"\"\"Cuenta palabras separadas por espacios/puntuación simple.\"\"\"\n",
    "    sep = \".,;:!?¡¿()\\n\\t\"\n",
    "    limpio = texto.lower()\n",
    "    for s in sep:\n",
    "        limpio = limpio.replace(s, \" \")\n",
    "    palabras = [p for p in limpio.split(\" \") if p]\n",
    "    frec: dict[str, int] = {}\n",
    "    for p in palabras:\n",
    "        frec[p] = frec.get(p, 0) + 1\n",
    "    return frec\n",
    "\n",
    "\n",
    "texto = \"¡Hola, hola! ¿Cómo va todo? Python, python; PYTHON...\"\n",
    "print(\"conteo palabras:\", contar_palabras(texto))\n",
    "print(\"conteo caracteres de 'aba':\", contar_caracteres(\"aba\"))"
   ]
  },
  {
   "cell_type": "markdown",
   "id": "40670a3b",
   "metadata": {},
   "source": [
    "## <span style=\"font-family:Georgia; text-align:center;\">Arreglos 2‑D (matrices)</span> \n",
    "<span style=\"font-family:Georgia;\"> \n",
    "\n",
    "Una **matriz** es un arreglo con dos ejes: *filas* y *columnas*.\n",
    "- `A.shape` te dice el tamaño.\n",
    "- `A[i, j]` indexa un elemento.\n",
    "- `A[i, :]` es una fila; `A[:, j]` es una columna."
   ]
  },
  {
   "cell_type": "code",
   "execution_count": 22,
   "id": "c8316101",
   "metadata": {},
   "outputs": [
    {
     "name": "stdout",
     "output_type": "stream",
     "text": [
      "A:\n",
      " [[1. 2. 3.]\n",
      " [4. 5. 6.]]\n",
      "shape A: (2, 3)\n",
      "A[0, 1]: 2.0\n",
      "A[1, :]: [4. 5. 6.]\n",
      "A[:, 0]: [1. 4.]\n",
      "Suma A+B:\n",
      " [[11. 22. 33.]\n",
      " [44. 55. 66.]]\n",
      "Elemento a elemento A*B:\n",
      " [[ 10.  40.  90.]\n",
      " [160. 250. 360.]]\n",
      "Transpuesta A.T:\n",
      " [[1. 4.]\n",
      " [2. 5.]\n",
      " [3. 6.]]\n"
     ]
    }
   ],
   "source": [
    "A = np.array([[1., 2., 3.],\n",
    "              [4., 5., 6.]])\n",
    "B = np.array([[10., 20., 30.],\n",
    "              [40., 50., 60.]])\n",
    "print(\"A:\\n\", A)\n",
    "print(\"shape A:\", A.shape)\n",
    "\n",
    "print(\"A[0, 1]:\", A[0, 1])   # fila 0, col 1\n",
    "print(\"A[1, :]:\", A[1, :])   # fila 1 completa\n",
    "print(\"A[:, 0]:\", A[:, 0])   # primera columna\n",
    "\n",
    "print(\"Suma A+B:\\n\", A + B)\n",
    "print(\"Elemento a elemento A*B:\\n\", A * B)\n",
    "print(\"Transpuesta A.T:\\n\", A.T)"
   ]
  },
  {
   "cell_type": "markdown",
   "id": "7823ff8d",
   "metadata": {},
   "source": [
    "**Operación matricial** (no elemento a elemento): usa `@` o `np.matmul`."
   ]
  },
  {
   "cell_type": "code",
   "execution_count": 25,
   "id": "126c3c68",
   "metadata": {},
   "outputs": [
    {
     "name": "stdout",
     "output_type": "stream",
     "text": [
      "A (2x3) @ C (3x2) =\n",
      "[[ 4.  5.]\n",
      " [10. 11.]]\n"
     ]
    }
   ],
   "source": [
    "C = np.array([[1., 0.],\n",
    "              [0., 1.],\n",
    "              [1., 1.]])   # 3x2\n",
    "print(\"A (2x3) @ C (3x2) =\")\n",
    "print(A @ C)  # resultado 2x2"
   ]
  },
  {
   "cell_type": "markdown",
   "id": "ec35dc04",
   "metadata": {},
   "source": [
    "### <span style=\"font-family:Georgia; text-align:center;\">Ejemplo: Calificaciones con ponderaciones</span> \n",
    "<span style=\"font-family:Georgia;\">  \n",
    "\n",
    "Tres actividades (tareas, proyecto, examen) con pesos `[0.2, 0.3, 0.5]`.  \n",
    "Con **producto matriz-vector** obtenemos la calificación final por estudiante."
   ]
  },
  {
   "cell_type": "code",
   "execution_count": null,
   "id": "7d63192a",
   "metadata": {},
   "outputs": [
    {
     "name": "stdout",
     "output_type": "stream",
     "text": [
      "Calificaciones finales: [79.  74.5 89.5]\n"
     ]
    }
   ],
   "source": [
    "calificaciones = np.array([\n",
    "    [85, 90, 70],   # Estudiante 1\n",
    "    [60, 75, 80],   # Estudiante 2\n",
    "    [95, 85, 90],   # Estudiante 3\n",
    "], dtype=float)\n",
    "\n",
    "pesos = np.array([0.2, 0.3, 0.5], dtype=float)\n",
    "finales = calificaciones @ pesos\n",
    "print(\"Calificaciones finales:\", finales)"
   ]
  },
  {
   "cell_type": "markdown",
   "id": "87a2134a",
   "metadata": {},
   "source": [
    "### <span style=\"font-family:Georgia; text-align:center;\">Ejemplo: Transformación geométrica 2D</span> \n",
    "<span style=\"font-family:Georgia;\">  \n",
    "\n",
    "Una **rotación + escala** se representa con una matriz 2×2. Multiplicamos puntos `N×2` por `M.T`."
   ]
  },
  {
   "cell_type": "code",
   "execution_count": 27,
   "id": "7d5ef88e",
   "metadata": {},
   "outputs": [
    {
     "data": {
      "image/png": "[encoded data removed]",
      "text/plain": [
       "<Figure size 640x480 with 1 Axes>"
      ]
     },
     "metadata": {},
     "output_type": "display_data"
    }
   ],
   "source": [
    "\n",
    "# Cuadrado unidad\n",
    "puntos = np.array([\n",
    "    [0,0],[1,0],[1,1],[0,1],[0,0]\n",
    "], dtype=float)\n",
    "\n",
    "# Rotación 30° y escala 1.2\n",
    "theta = np.deg2rad(30)\n",
    "R = np.array([[np.cos(theta), -np.sin(theta)],\n",
    "              [np.sin(theta),  np.cos(theta)]], dtype=float)\n",
    "S = 1.2 * np.eye(2)\n",
    "M = S @ R\n",
    "\n",
    "puntos_tx = puntos @ M.T\n",
    "\n",
    "plt.figure()\n",
    "plt.plot(puntos[:,0], puntos[:,1], marker=\"o\", label=\"Original\")\n",
    "plt.plot(puntos_tx[:,0], puntos_tx[:,1], marker=\"o\", label=\"Transformado\")\n",
    "plt.axis(\"equal\")\n",
    "plt.title(\"Transformación lineal 2D (rotación + escala)\")\n",
    "plt.legend()\n",
    "plt.show()\n"
   ]
  },
  {
   "cell_type": "markdown",
   "id": "9351f656",
   "metadata": {},
   "source": [
    "## <span style=\"font-family:Georgia; text-align:center;\">Buenas prácticas al combinar **listas** y **NumPy**</span> \n",
    "<span style=\"font-family:Georgia;\">   \n",
    "\n",
    "- Usa **listas** para construir/recopilar datos heterogéneos o antes de limpiar.\n",
    "- Convierte a **NumPy** cuando vas a hacer **cálculo** vectorizado/matricial.\n",
    "- Prefiere funciones **robustas** que acepten ambos tipos.\n",
    "- Documenta bien las **dimensiones** esperadas (vector vs matriz).\n",
    "- En problemas aplicados, **modela primero** (qué representan tus arreglos) y después programa."
   ]
  },
  {
   "cell_type": "markdown",
   "id": "53c13ca6",
   "metadata": {},
   "source": [
    "## <span style=\"font-family:Georgia; text-align:center;\">Referencias</span> \n",
    "<span style=\"font-family:Georgia;\">    \n",
    "\n",
    "- **Documentación de NumPy**.\n",
    "- **W. McKinney (2022). *Python for Data Analysis*.** O'Reilly.\n",
    "- **J. VanderPlas (2016). *A Whirlwind Tour of Python*.** O'Reilly."
   ]
  }
 ],
 "metadata": {
  "kernelspec": {
   "display_name": "Python 3",
   "language": "python",
   "name": "python3"
  },
  "language_info": {
   "codemirror_mode": {
    "name": "ipython",
    "version": 3
   },
   "file_extension": ".py",
   "mimetype": "text/x-python",
   "name": "python",
   "nbconvert_exporter": "python",
   "pygments_lexer": "ipython3",
   "version": "3.13.1"
  }
 },
 "nbformat": 4,
 "nbformat_minor": 5
}
