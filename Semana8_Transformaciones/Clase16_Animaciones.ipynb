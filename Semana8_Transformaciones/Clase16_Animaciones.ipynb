{
 "cells": [
  {
   "cell_type": "markdown",
   "id": "70b0c16a",
   "metadata": {},
   "source": [
    "# Animaciones e Interactividad"
   ]
  },
  {
   "cell_type": "markdown",
   "id": "0d875610",
   "metadata": {},
   "source": [
    "Esta clase continúa el tema de transformaciones y se centra en dos ideas clave:\n",
    "1. **Animaciones** con `imageio`.\n",
    "2. **Interactividad** con `ipywidgets` (sliders para parámetros).\n"
   ]
  },
  {
   "cell_type": "code",
   "execution_count": 1,
   "id": "e6d82928",
   "metadata": {},
   "outputs": [],
   "source": [
    "from animaciones import *"
   ]
  },
  {
   "cell_type": "markdown",
   "id": "fee8c70d",
   "metadata": {},
   "source": [
    "## 1. Animaciones (frames + GIF con `imageio`)"
   ]
  },
  {
   "cell_type": "markdown",
   "id": "495cccb2",
   "metadata": {},
   "source": [
    "Tres ejemplos básicos con un triángulo 2D:\n",
    "1. Traslación uniforme.  \n",
    "2. Rotación alrededor del centroide.  \n",
    "3. Traslación y luego rotación (el orden importa)."
   ]
  },
  {
   "cell_type": "markdown",
   "id": "d6819994",
   "metadata": {},
   "source": [
    "### 1.1 Generadores de frames para el triángulo\n",
    "\n",
    "Cada generador:\n",
    "- Prepara una carpeta para los frames (limpia PNGs previos).\n",
    "- Dibuja y guarda cada frame con `plt.savefig(...)`.\n",
    "- Configura los ejes con aspecto igual y límites fijos para evitar \"saltos\"."
   ]
  },
  {
   "cell_type": "code",
   "execution_count": 2,
   "id": "bba82b5b",
   "metadata": {},
   "outputs": [
    {
     "name": "stdout",
     "output_type": "stream",
     "text": [
      "GIF creado en: triangulo_traslacion.gif (frames: 60, duración/frame: 0.03s)\n"
     ]
    }
   ],
   "source": [
    "# -----------------------------------------------------------------------------\n",
    "# EJEMPLOS DE USO \n",
    "# -----------------------------------------------------------------------------\n",
    "\n",
    "# 1) Triángulo trasladado\n",
    "generar_frames_traslacion(carpeta_frames=\"frames_traslacion\", n_frames=60)\n",
    "crear_gif_desde_frames(\n",
    "    carpeta_frames=\"frames_traslacion\",\n",
    "    salida_gif=\"triangulo_traslacion.gif\",\n",
    "    duracion_frame=0.03  # ~33 fps\n",
    ")"
   ]
  },
  {
   "cell_type": "code",
   "execution_count": 3,
   "id": "854c70bf",
   "metadata": {},
   "outputs": [
    {
     "name": "stdout",
     "output_type": "stream",
     "text": [
      "GIF creado en: triangulo_rotacion.gif (frames: 60, duración/frame: 0.03s)\n"
     ]
    }
   ],
   "source": [
    "# 2) Triángulo rotando sobre su centroide\n",
    "generar_frames_rotacion(carpeta_frames=\"frames_rotacion\", n_frames=60)\n",
    "crear_gif_desde_frames(\n",
    "    carpeta_frames=\"frames_rotacion\",\n",
    "    salida_gif=\"triangulo_rotacion.gif\",\n",
    "    duracion_frame=0.03\n",
    ")"
   ]
  },
  {
   "cell_type": "code",
   "execution_count": 4,
   "id": "69b67de5",
   "metadata": {},
   "outputs": [
    {
     "name": "stdout",
     "output_type": "stream",
     "text": [
      "GIF creado en: triangulo_traslado_luego_rotacion.gif (frames: 60, duración/frame: 0.03s)\n"
     ]
    }
   ],
   "source": [
    "# 3) Triángulo trasladado y luego rotado\n",
    "generar_frames_traslado_luego_rotacion(carpeta_frames=\"frames_mix\", n_frames=60)\n",
    "crear_gif_desde_frames(\n",
    "    carpeta_frames=\"frames_mix\",\n",
    "    salida_gif=\"triangulo_traslado_luego_rotacion.gif\",\n",
    "    duracion_frame=0.03\n",
    ")"
   ]
  },
  {
   "cell_type": "markdown",
   "id": "20667ae1",
   "metadata": {},
   "source": [
    "## 2. Widgets simples "
   ]
  },
  {
   "cell_type": "markdown",
   "id": "cbc5a3d3",
   "metadata": {},
   "source": [
    "### 2.1 Elipse interactiva variando $a$ y $b$\n",
    "\n",
    "La elipse canónica satisface $\\tfrac{x^2}{a^2} + \\tfrac{y^2}{b^2} = 1$."
   ]
  },
  {
   "cell_type": "code",
   "execution_count": 5,
   "id": "6ddc9c5b",
   "metadata": {},
   "outputs": [],
   "source": [
    "# Interactividad con widgets (deslizadores)\n",
    "from ipywidgets import interact, interactive, FloatSlider, IntSlider, VBox, HBox, Layout"
   ]
  },
  {
   "cell_type": "code",
   "execution_count": 10,
   "id": "c724f883",
   "metadata": {},
   "outputs": [
    {
     "data": {
      "application/vnd.jupyter.widget-view+json": {
       "model_id": "535c212b7cab48c6ae4ee5ec22f52c7f",
       "version_major": 2,
       "version_minor": 0
      },
      "text/plain": [
       "interactive(children=(FloatSlider(value=2.0, description='a', max=5.0, min=0.2), FloatSlider(value=1.0, descri…"
      ]
     },
     "metadata": {},
     "output_type": "display_data"
    },
    {
     "data": {
      "text/plain": [
       "<function __main__.trazar_elipse(a: float = 2.0, b: float = 1.0) -> None>"
      ]
     },
     "execution_count": 10,
     "metadata": {},
     "output_type": "execute_result"
    }
   ],
   "source": [
    "def trazar_elipse(a: float = 2.0, b: float = 1.0) -> None:\n",
    "    \"\"\"\n",
    "    Dibuja una elipse con semiejes 'a' (en x) y 'b' (en y).\n",
    "\n",
    "    Parámetros\n",
    "    ----------\n",
    "    a : float\n",
    "        Semieje horizontal (>0).\n",
    "    b : float\n",
    "        Semieje vertical (>0).\n",
    "    Regresa\n",
    "    -------\n",
    "    None\n",
    "        Solo realiza la gráfica.\n",
    "    \"\"\"\n",
    "    if a <= 0 or b <= 0:\n",
    "        # Validación básica de parámetros\n",
    "        raise ValueError(\"Se requiere a > 0 y b > 0 para una elipse válida.\")\n",
    "    \n",
    "    n = 400 # Número de muestras angulares para interpolar la curva.\n",
    "\n",
    "    # Parametrización estándar de la elipse con ángulo t ∈ [0, 2π]\n",
    "    t = np.linspace(0, 2*np.pi, n)          # np.linspace crea una malla uniforme de n puntos\n",
    "    x = a * np.cos(t)                        # Eje x escalado por 'a'\n",
    "    y = b * np.sin(t)                        # Eje y escalado por 'b'\n",
    "\n",
    "    # Creamos una figura nueva por cada llamada para evitar sobreescrituras\n",
    "    plt.figure(figsize=(5, 5))               # figsize en pulgadas\n",
    "    plt.plot(x, y, lw=2)                     # lw controla el grosor de línea\n",
    "\n",
    "    # gca() obtiene el eje actual; set_aspect('equal') iguala escalas en x e y.\n",
    "    # adjustable='box' le dice a Matplotlib que ajuste el cuadro para mantener esa proporción.\n",
    "    plt.gca().set_aspect(\"equal\", adjustable=\"box\")\n",
    "\n",
    "    # Establecemos límites simétricos basados en el mayor semieje para encuadre limpio\n",
    "    m = max(a, b) * 1.1                      # margen del 10% para que no quede justo en el borde\n",
    "    plt.xlim(-m, m)                          # set_xlim fija límites en eje x\n",
    "    plt.ylim(-m, m)                          # set_ylim fija límites en eje y\n",
    "\n",
    "    plt.title(f\"Elipse con a={a:.2f}, b={b:.2f}\")  # Título\n",
    "    plt.grid(True)                           # grid muestra cuadrícula de referencia\n",
    "    plt.show()                               # Renderiza la figura en el notebook\n",
    "\n",
    "\n",
    "def elipse_interactiva():\n",
    "    \"\"\"\n",
    "    Crea sliders para manipular a y b y observar la elipse en tiempo real.\n",
    "    \"\"\"\n",
    "    # interact construye una UI mínima con sliders a partir de las anotaciones del callable\n",
    "    return interact(\n",
    "        trazar_elipse,\n",
    "        a=FloatSlider(value=2.0, min=0.2, max=5.0, step=0.1, description='a'),\n",
    "        b=FloatSlider(value=1.0, min=0.2, max=5.0, step=0.1, description='b')\n",
    "    )\n",
    "\n",
    "# Ejecutar:\n",
    "elipse_interactiva()"
   ]
  },
  {
   "cell_type": "markdown",
   "id": "1260023a",
   "metadata": {},
   "source": [
    "### 2.2 Paraboloide interactivo: $z = c_x x^2 + c_y y^2$\n",
    "\n",
    "Se añaden **dos** coeficientes independientes $c_x$ y $c_y$ para controlar la curvatura en cada dirección.\n"
   ]
  },
  {
   "cell_type": "code",
   "execution_count": 12,
   "id": "1b6e5664",
   "metadata": {},
   "outputs": [
    {
     "data": {
      "application/vnd.jupyter.widget-view+json": {
       "model_id": "e81e50f229fc45d583f61b8207135baf",
       "version_major": 2,
       "version_minor": 0
      },
      "text/plain": [
       "interactive(children=(FloatSlider(value=1.0, description='c_x', max=2.0, min=-2.0), FloatSlider(value=1.0, des…"
      ]
     },
     "metadata": {},
     "output_type": "display_data"
    },
    {
     "data": {
      "text/plain": [
       "<function __main__.trazar_paraboloide(cx: float = 1.0, cy: float = 1.0, rango: float = 2.0, n: int = 50) -> None>"
      ]
     },
     "execution_count": 12,
     "metadata": {},
     "output_type": "execute_result"
    }
   ],
   "source": [
    "def trazar_paraboloide(cx: float = 1.0, cy: float = 1.0, rango: float = 2.0, n: int = 50) -> None:\n",
    "    \"\"\"\n",
    "    Dibuja la superficie z = c_x x^2 + c_y y^2 con malla regular.\n",
    "\n",
    "    Parámetros\n",
    "    ----------\n",
    "    cx : float\n",
    "        Coeficiente cuadrático en x.\n",
    "    cy : float\n",
    "        Coeficiente cuadrático en y.\n",
    "    rango : float\n",
    "        Rango simétrico de visualización en x, y ([-rango, rango]).\n",
    "    n : int\n",
    "        Resolución de la malla (más grande = más puntos).\n",
    "\n",
    "    Regresa\n",
    "    -------\n",
    "    None\n",
    "        Solo grafica.\n",
    "    \"\"\"\n",
    "    # Construimos mallas 2D para X e Y con np.meshgrid\n",
    "    xs = np.linspace(-rango, rango, n)       # Valores de x\n",
    "    ys = np.linspace(-rango, rango, n)       # Valores de y\n",
    "    X, Y = np.meshgrid(xs, ys)               # Malla cartesiana (X, Y)\n",
    "\n",
    "    Z = cx * (X**2) + cy * (Y**2)            # Evaluamos z = c_x x^2 + c_y y^2\n",
    "\n",
    "    # Creamos figura y eje 3D\n",
    "    fig = plt.figure(figsize=(6, 5))         # Figura de 6x5 pulgadas\n",
    "    ax = fig.add_subplot(111, projection='3d') # Eje 3D con proyección '3d'\n",
    "    ax.plot_surface(X, Y, Z, linewidth=0, antialiased=True, alpha=0.9)  # Superficie suave\n",
    "\n",
    "    ax.set_title(f\"Paraboloide: z = {cx:.2f} x^2 + {cy:.2f} y^2\")  # Título con parámetros\n",
    "    ax.set_xlabel(\"x\")                          # Etiqueta eje x\n",
    "    ax.set_ylabel(\"y\")                          # Etiqueta eje y\n",
    "    ax.set_zlabel(\"z\")                          # Etiqueta eje z\n",
    "    plt.show()                                    # Mostrar figura\n",
    "\n",
    "\n",
    "def paraboloide_interactivo():\n",
    "    \"\"\"\n",
    "    Crea sliders para cx, cy, el rango y la resolución n.\n",
    "    \"\"\"\n",
    "    return interact(\n",
    "        trazar_paraboloide,\n",
    "        cx=FloatSlider(value=1.0, min=-2.0, max=2.0, step=0.1, description='c_x'),\n",
    "        cy=FloatSlider(value=1.0, min=-2.0, max=2.0, step=0.1, description='c_y'),\n",
    "        rango=FloatSlider(value=2.0, min=1.0, max=5.0, step=0.5, description='rango'),\n",
    "        n=IntSlider(value=50, min=20, max=120, step=5, description='resol.')\n",
    "    )\n",
    "\n",
    "# Ejecutar:\n",
    "paraboloide_interactivo()"
   ]
  },
  {
   "cell_type": "markdown",
   "id": "ce3105af",
   "metadata": {},
   "source": [
    "### 2.3 Toroide interactivo $(a, b, c)$\n",
    "\n",
    "Parametrización con sección elíptica:\n",
    "$$\n",
    "\\begin{aligned}\n",
    "x(u, v) &= (a + b\\cos v)\\cos u,\\\\\n",
    "y(u, v) &= (a + b\\cos v)\\sin u,\\\\\n",
    "z(u, v) &= c\\sin v,\n",
    "\\end{aligned}\n",
    "\\quad u, v \\in [0, 2\\pi].\n",
    "$$\n"
   ]
  },
  {
   "cell_type": "code",
   "execution_count": 13,
   "id": "764269d2",
   "metadata": {},
   "outputs": [
    {
     "data": {
      "application/vnd.jupyter.widget-view+json": {
       "model_id": "fac2700153ef4587926417c64db784e6",
       "version_major": 2,
       "version_minor": 0
      },
      "text/plain": [
       "interactive(children=(FloatSlider(value=2.0, description='a', max=4.0, min=0.5), FloatSlider(value=0.7, descri…"
      ]
     },
     "metadata": {},
     "output_type": "display_data"
    },
    {
     "data": {
      "text/plain": [
       "<function __main__.trazar_toroide(a: float = 2.0, b: float = 0.7, c: float = 0.7, nu: int = 60, nv: int = 40) -> None>"
      ]
     },
     "execution_count": 13,
     "metadata": {},
     "output_type": "execute_result"
    }
   ],
   "source": [
    "def trazar_toroide(a: float = 2.0, b: float = 0.7, c: float = 0.7,\n",
    "                    nu: int = 60, nv: int = 40) -> None:\n",
    "    \"\"\"\n",
    "    Dibuja un toroide con parámetros (a, b, c) y resoluciones (nu, nv).\n",
    "\n",
    "    Parámetros\n",
    "    ----------\n",
    "    a : float\n",
    "        Radio mayor (distancia desde el centro del tubo al eje).\n",
    "    b : float\n",
    "        Escala en cos(v) para la sección transversal.\n",
    "    c : float\n",
    "        Escala en sin(v) para la sección transversal (si b=c, sección circular).\n",
    "    nu : int\n",
    "        Puntos en la dirección u (revolución).\n",
    "    nv : int\n",
    "        Puntos en la dirección v (sección).\n",
    "\n",
    "    Regresa\n",
    "    -------\n",
    "    None\n",
    "        Solo grafica.\n",
    "    \"\"\"\n",
    "    if a <= 0:\n",
    "        raise ValueError(\"Se requiere a > 0 para un toroide válido.\")\n",
    "\n",
    "    # Mallado de los parámetros u, v\n",
    "    u = np.linspace(0, 2*np.pi, nu)\n",
    "    v = np.linspace(0, 2*np.pi, nv)\n",
    "    U, V = np.meshgrid(u, v)\n",
    "\n",
    "    # Ecuaciones paramétricas del toroide\n",
    "    X = (a + b*np.cos(V)) * np.cos(U)\n",
    "    Y = (a + b*np.cos(V)) * np.sin(U)\n",
    "    Z = c * np.sin(V)\n",
    "\n",
    "    fig = plt.figure(figsize=(6, 5))\n",
    "    ax = fig.add_subplot(111, projection='3d')\n",
    "    ax.plot_surface(X, Y, Z, linewidth=0, antialiased=True, alpha=0.9)\n",
    "\n",
    "    ax.set_title(f\"Toroide con a={a:.2f}, b={b:.2f}, c={c:.2f}\")\n",
    "    ax.set_xlabel(\"x\")\n",
    "    ax.set_ylabel(\"y\")\n",
    "    ax.set_zlabel(\"z\")\n",
    "\n",
    "    # Ajuste simple de límites para encuadre completo del toroide\n",
    "    R = a + max(abs(b), abs(c)) + 0.5\n",
    "    ax.set_xlim(-R, R)\n",
    "    ax.set_ylim(-R, R)\n",
    "    ax.set_zlim(-R, R)\n",
    "    plt.show()\n",
    "\n",
    "\n",
    "def toroide_interactivo():\n",
    "    \"\"\"\n",
    "    Sliders para (a, b, c) y resoluciones de malla (nu, nv).\n",
    "    \"\"\"\n",
    "    return interact(\n",
    "        trazar_toroide,\n",
    "        a=FloatSlider(value=2.0, min=0.5, max=4.0, step=0.1, description='a'),\n",
    "        b=FloatSlider(value=0.7, min=0.2, max=2.0, step=0.1, description='b'),\n",
    "        c=FloatSlider(value=0.7, min=0.2, max=2.0, step=0.1, description='c'),\n",
    "        nu=IntSlider(value=60, min=20, max=120, step=10, description='nu'),\n",
    "        nv=IntSlider(value=40, min=20, max=120, step=10, description='nv')\n",
    "    )\n",
    "\n",
    "# Ejecutar:\n",
    "toroide_interactivo()"
   ]
  },
  {
   "cell_type": "markdown",
   "id": "c68c67bf",
   "metadata": {},
   "source": [
    "### 2.4 Cíclide interactivo $(a, b, c, d)$\n",
    "\n",
    "Parametrización tipo cíclide (superficie de Dupin):\n",
    "\n",
    "$$\n",
    "\\begin{aligned}\n",
    "x(u, v) &= \\frac{d\\,(c - a\\cos u \\cos v) + b^2 \\cos u}{a - c\\cos u \\cos v}, \\\\\n",
    "y(u, v) &= \\frac{b \\sin u \\,(a - d\\cos v)}{a - c\\cos u \\cos v}, \\\\\n",
    "z(u, v) &= \\frac{b \\sin v \\,(c \\cos u - d)}{a - c\\cos u \\cos v},\n",
    "\\end{aligned}\n",
    "\\quad u, v \\in [0, 2\\pi].\n",
    "$$"
   ]
  },
  {
   "cell_type": "code",
   "execution_count": null,
   "id": "8475a3e6",
   "metadata": {},
   "outputs": [
    {
     "data": {
      "application/vnd.jupyter.widget-view+json": {
       "model_id": "27155fb8bf644721b592d0da53d76dc3",
       "version_major": 2,
       "version_minor": 0
      },
      "text/plain": [
       "interactive(children=(FloatSlider(value=2.0, description='a', max=4.0, min=0.5), FloatSlider(value=0.7, descri…"
      ]
     },
     "metadata": {},
     "output_type": "display_data"
    },
    {
     "data": {
      "text/plain": [
       "<function __main__.trazar_ciclide(a: float = 2.0, b: float = 0.7, c: float = 0.7, d: float = 1.2, nu: int = 80, nv: int = 60, tol: float = 1e-06) -> None>"
      ]
     },
     "execution_count": 20,
     "metadata": {},
     "output_type": "execute_result"
    }
   ],
   "source": [
    "def superficie_cicloide(a: float, b: float, c: float, d: float,\n",
    "                       nu: int = 60, nv: int = 40,\n",
    "                       tol: float = 1e-6):\n",
    "    \"\"\"\n",
    "    Genera las mallas (X, Y, Z) de la superficie tipo toro/cíclide:\n",
    "\n",
    "        x = ( d*(c - a*cos(u)*cos(v)) + b^2*cos(u) ) / ( a - c*cos(u)*cos(v) )\n",
    "        y =   b*sin(u)*(a - d*cos(v))              / ( a - c*cos(u)*cos(v) )\n",
    "        z =   b*sin(v)*(c*cos(u) - d)              / ( a - c*cos(u)*cos(v) )\n",
    "\n",
    "    con u ∈ [0, 2π], v ∈ [0, 2π].\n",
    "\n",
    "    Parámetros\n",
    "    ----------\n",
    "    a, b, c, d : float\n",
    "        Parámetros geométricos de la superficie.\n",
    "    nu, nv : int\n",
    "        Resoluciones de la malla en u y v, respectivamente.\n",
    "    tol : float\n",
    "        Tolerancia mínima para el |denominador|; valores menores se recortan para\n",
    "        evitar división por cero.\n",
    "\n",
    "    Regresa\n",
    "    -------\n",
    "    (X, Y, Z) : np.ndarray, np.ndarray, np.ndarray\n",
    "        Mallas 2D listas para graficar con plot_surface.\n",
    "    \"\"\"\n",
    "    # Mallado de parámetros\n",
    "    u = np.linspace(0.0, 2.0*np.pi, nu)\n",
    "    v = np.linspace(0.0, 2.0*np.pi, nv)\n",
    "    U, V = np.meshgrid(u, v)\n",
    "\n",
    "    cu, su = np.cos(U), np.sin(U)\n",
    "    cv, sv = np.cos(V), np.sin(V)\n",
    "\n",
    "    # Denominador con protección numérica\n",
    "    denom = a - c * cu * cv\n",
    "    # Evitar división por cero; recortar donde el valor absoluto sea muy pequeño\n",
    "    denom = np.where(np.abs(denom) < tol, np.sign(denom) * tol, denom)\n",
    "\n",
    "    # Fórmulas paramétricas\n",
    "    X = ( d*(c - a*cu*cv) + (b**2)*cu ) / denom\n",
    "    Y = ( b*su*(a - d*cv) ) / denom\n",
    "    Z = ( b*sv*(c*cu - d) ) / denom\n",
    "\n",
    "    return X, Y, Z\n",
    "\n",
    "\n",
    "def trazar_ciclide(a: float = 2.0, b: float = 0.7, c: float = 0.7, d: float = 1.2,\n",
    "                           nu: int = 80, nv: int = 60, tol: float = 1e-6) -> None:\n",
    "    \"\"\"\n",
    "    Dibuja la superficie tipo cíclide/toroide con los parámetros dados.\n",
    "\n",
    "    Parámetros\n",
    "    ----------\n",
    "    a, b, c, d : float\n",
    "        Parámetros de la superficie.\n",
    "    nu, nv : int\n",
    "        Resoluciones de malla para u y v.\n",
    "    tol : float\n",
    "        Tolerancia para el denominador.\n",
    "\n",
    "    Regresa\n",
    "    -------\n",
    "    None\n",
    "        Solo grafica.\n",
    "    \"\"\"\n",
    "    X, Y, Z = superficie_cicloide(a, b, c, d, nu=nu, nv=nv, tol=tol)\n",
    "\n",
    "    fig = plt.figure(figsize=(7, 5))\n",
    "    ax = fig.add_subplot(111, projection='3d')\n",
    "\n",
    "    # Superficie\n",
    "    ax.plot_surface(X, Y, Z, linewidth=0, antialiased=True, alpha=0.95)\n",
    "\n",
    "    # Etiquetas y título\n",
    "    ax.set_title(f\"Cíclide/Toroide: a={a:.2f}, b={b:.2f}, c={c:.2f}, d={d:.2f}\")\n",
    "    ax.set_xlabel(\"x\")\n",
    "    ax.set_ylabel(\"y\")\n",
    "    ax.set_zlabel(\"z\")\n",
    "\n",
    "    # Límites automáticos con margen\n",
    "    max_r = 1.05 * np.max(np.abs([X, Y, Z]))\n",
    "    ax.set_xlim(-max_r, max_r)\n",
    "    ax.set_ylim(-max_r, max_r)\n",
    "    ax.set_zlim(-max_r, max_r)\n",
    "\n",
    "    plt.show()\n",
    "\n",
    "\n",
    "def ciclide_interactiva():\n",
    "    \"\"\"\n",
    "    Interfaz interactiva con sliders para (a, b, c, d) y resolución (nu, nv).\n",
    "    \"\"\"\n",
    "    return interact(\n",
    "        trazar_ciclide,\n",
    "        a=FloatSlider(value=2.0, min=0.5, max=4.0, step=0.1, description='a'),\n",
    "        b=FloatSlider(value=0.7, min=0.2, max=2.0, step=0.05, description='b'),\n",
    "        c=FloatSlider(value=0.7, min=0.2, max=2.0, step=0.05, description='c'),\n",
    "        d=FloatSlider(value=1.2, min=0.2, max=3.0, step=0.05, description='d'),\n",
    "        nu=IntSlider(value=80, min=30, max=200, step=10, description='nu'),\n",
    "        nv=IntSlider(value=60, min=30, max=200, step=10, description='nv'),\n",
    "        tol=FloatSlider(value=1e-6, min=1e-8, max=1e-3, step=1e-8, readout_format=\".0e\", description='tol')\n",
    "    )\n",
    "\n",
    "# Ejecutar:\n",
    "ciclide_interactiva()\n"
   ]
  },
  {
   "cell_type": "markdown",
   "id": "f17f84a6",
   "metadata": {},
   "source": [
    "## 3 Widgets de sistemas físicos\n",
    "\n",
    "### 3.1 Péndulo \n",
    "\n",
    "Modelamos el ángulo del péndulo con la **aproximación de ángulo pequeño**:\n",
    "$$ \\theta(t) = A \\cos(\\omega t) + B \\sin(\\omega t), \\quad \\omega = \\sqrt{\\tfrac{g}{L}} $$\n",
    "\n",
    "Partimos de una configuración inicial: $\\theta(0) = \\theta_0$ y $\\dot\\theta(0) = \\omega_0$."
   ]
  },
  {
   "cell_type": "code",
   "execution_count": 14,
   "id": "94bc2fc4",
   "metadata": {},
   "outputs": [
    {
     "data": {
      "application/vnd.jupyter.widget-view+json": {
       "model_id": "0f60a2cf7e9145c7946f945011902d4c",
       "version_major": 2,
       "version_minor": 0
      },
      "text/plain": [
       "interactive(children=(FloatSlider(value=1.5, description='L (m)', max=3.0, min=0.5), FloatSlider(value=0.6, de…"
      ]
     },
     "metadata": {},
     "output_type": "display_data"
    },
    {
     "data": {
      "text/plain": [
       "<function __main__.pendulo_estatico_en_t(L: float = 1.5, theta0: float = 0.6, w0: float = 0.0, g: float = 9.81, t: float = 0.0) -> None>"
      ]
     },
     "execution_count": 14,
     "metadata": {},
     "output_type": "execute_result"
    }
   ],
   "source": [
    "def angulo_pendulo(t: float, theta0: float, w0: float, L: float, g: float = 9.81) -> float:\n",
    "    \"\"\"\n",
    "    Ángulo del péndulo simple bajo aproximación de ángulo pequeño.\n",
    "\n",
    "    Parámetros\n",
    "    ----------\n",
    "    t : float\n",
    "        Tiempo (s).\n",
    "    theta0 : float\n",
    "        Ángulo inicial (rad).\n",
    "    w0 : float\n",
    "        Velocidad angular inicial (rad/s).\n",
    "    L : float\n",
    "        Longitud de la cuerda (m).\n",
    "    g : float\n",
    "        Aceleración de la gravedad (m/s^2).\n",
    "\n",
    "    Regresa\n",
    "    -------\n",
    "    float\n",
    "        Ángulo θ(t) en radianes.\n",
    "    \"\"\"\n",
    "    omega = math.sqrt(g / L)     # Frecuencia natural del péndulo\n",
    "    A = theta0                   # Constante A por condición inicial θ(0)=θ0\n",
    "    B = w0 / omega               # Constante B por condición inicial θ'(0)=w0\n",
    "    return A * math.cos(omega * t) + B * math.sin(omega * t)\n",
    "\n",
    "\n",
    "def pendulo_estatico_en_t(L: float = 1.5, theta0: float = 0.6, w0: float = 0.0,\n",
    "                          g: float = 9.81, t: float = 0.0) -> None:\n",
    "    \"\"\"\n",
    "    Dibuja el péndulo en el instante de tiempo 't' usando la solución θ(t).\n",
    "\n",
    "    Parámetros\n",
    "    ----------\n",
    "    L : float\n",
    "        Longitud de la cuerda (m).\n",
    "    theta0 : float\n",
    "        Ángulo inicial (rad).\n",
    "    w0 : float\n",
    "        Velocidad angular inicial (rad/s).\n",
    "    g : float\n",
    "        Aceleración de la gravedad (m/s^2).\n",
    "    t : float\n",
    "        Tiempo (s) en el cual evaluar θ(t).\n",
    "\n",
    "    Regresa\n",
    "    -------\n",
    "    None\n",
    "        Solo grafica el estado en el tiempo dado.\n",
    "    \"\"\"\n",
    "    # Calculamos el ángulo en el tiempo t\n",
    "    theta = angulo_pendulo(t, theta0=theta0, w0=w0, L=L, g=g)\n",
    "\n",
    "    # Posición del bob (extremo de la cuerda) en coordenadas cartesianas\n",
    "    x = L * math.sin(theta)   # Desplazamiento horizontal: L*sin(θ)\n",
    "    y = -L * math.cos(theta)  # Desplazamiento vertical:  -L*cos(θ) (hacia abajo)\n",
    "\n",
    "    # Construcción de la figura\n",
    "    fig, ax = plt.subplots(figsize=(5, 5))   # Nueva figura y eje\n",
    "    ax.plot([0, x], [0, y], lw=2)            # Segmento desde el pivote (0,0) hasta el bob (x,y)\n",
    "    bob = plt.Circle((x, y), radius=0.08*L, fill=True, alpha=0.7)  # Circunferencia para la masa\n",
    "    ax.add_patch(bob)                        # add_patch añade el círculo al eje\n",
    "    ax.plot([0], [0], marker='o')            # Marca el pivote como un punto\n",
    "\n",
    "    # Ajustes de encuadre\n",
    "    ax.set_xlim(-L*1.2, L*1.2)               # set_xlim define límites horizontales\n",
    "    ax.set_ylim(-L*1.2, L*0.2)               # set_ylim define límites verticales\n",
    "\n",
    "    # Igualar escala de unidades en x e y para que el péndulo no se deforme\n",
    "    plt.gca().set_aspect(\"equal\", adjustable=\"box\")  # Ver comentario en sección de la elipse\n",
    "\n",
    "    ax.set_title(f\"Péndulo en t={t:.2f} s (θ={theta:.2f} rad)\")  # Título con instante y ángulo\n",
    "    plt.grid(True)                           # Mostrar cuadrícula\n",
    "    plt.show()                               # Renderizar la figura\n",
    "\n",
    "\n",
    "def pendulo_interactivo():\n",
    "    \"\"\"\n",
    "    Interfaz interactiva para controlar L, θ0, w0, g y t (tiempo).\n",
    "    \"\"\"\n",
    "    return interact(\n",
    "        pendulo_estatico_en_t,\n",
    "        L=FloatSlider(value=1.5, min=0.5, max=3.0, step=0.1, description='L (m)'),\n",
    "        theta0=FloatSlider(value=0.6, min=-1.2, max=1.2, step=0.05, description='θ0 (rad)'),\n",
    "        w0=FloatSlider(value=0.0, min=-2.0, max=2.0, step=0.1, description='ω0 (rad/s)'),\n",
    "        g=FloatSlider(value=9.81, min=1.0, max=20.0, step=0.1, description='g (m/s²)'),\n",
    "        t=FloatSlider(value=0.0, min=0.0, max=10.0, step=0.05, description='t (s)')\n",
    "    )\n",
    "\n",
    "# Ejecutar:\n",
    "pendulo_interactivo()\n"
   ]
  },
  {
   "cell_type": "markdown",
   "id": "f06a8e7b",
   "metadata": {},
   "source": [
    "### 3.2 Widgets de trayectoria de un proyectil \n",
    "Ecuaciones (sin resistencia del aire, altura inicial $y_0$):\n",
    "$$\n",
    "\\begin{aligned}\n",
    "x(t) &= v_0 \\cos(\\theta)\\, t, \\\\\n",
    "y(t) &= y_0 + v_0 \\sin(\\theta)\\, t - \\tfrac{1}{2} g t^2.\n",
    "\\end{aligned}\n",
    "$$\n",
    "\n",
    "Tiempo de vuelo (primera raíz positiva de $y(t)=0$):\n",
    "$$\n",
    "t_{\\text{vuelo}} = \\frac{v_0 \\sin\\theta + \\sqrt{(v_0 \\sin\\theta)^2 + 2 g y_0}}{g}.\n",
    "$$\n",
    "\n",
    "Alcance horizontal:\n",
    "$$\n",
    "R = v_0 \\cos\\theta\\; t_{\\text{vuelo}}.\n",
    "$$\n"
   ]
  },
  {
   "cell_type": "code",
   "execution_count": 15,
   "id": "c8c75b3b",
   "metadata": {},
   "outputs": [
    {
     "data": {
      "application/vnd.jupyter.widget-view+json": {
       "model_id": "0202ccdef6f848f186fc964d8d8025c1",
       "version_major": 2,
       "version_minor": 0
      },
      "text/plain": [
       "interactive(children=(FloatSlider(value=20.0, description='v0 (m/s)', max=60.0, min=1.0, step=1.0), FloatSlide…"
      ]
     },
     "metadata": {},
     "output_type": "display_data"
    },
    {
     "data": {
      "text/plain": [
       "<function __main__.proyectil_interactivo_con_tiempo.<locals>.graficar(v0: float = 20.0, theta: float = 45.0, y0: float = 0.0, g: float = 9.81, t: float = 1.0)>"
      ]
     },
     "execution_count": 15,
     "metadata": {},
     "output_type": "execute_result"
    }
   ],
   "source": [
    "def tiempo_de_vuelo(v0: float, theta_rad: float, y0: float = 0.0, g: float = 9.81) -> float:\n",
    "    \"\"\"\n",
    "    Calcula el tiempo total de vuelo (t > 0) para lanzamiento con altura y0.\n",
    "\n",
    "    Parámetros\n",
    "    ----------\n",
    "    v0 : float\n",
    "        Velocidad inicial (m/s).\n",
    "    theta_rad : float\n",
    "        Ángulo inicial (rad).\n",
    "    y0 : float\n",
    "        Altura inicial (m).\n",
    "    g : float\n",
    "        Aceleración de la gravedad (m/s^2).\n",
    "\n",
    "    Regresa\n",
    "    -------\n",
    "    float\n",
    "        Tiempo de vuelo. Si no hay impacto con y=0, puede regresar NaN.\n",
    "    \"\"\"\n",
    "    vy0 = v0 * math.sin(theta_rad)           # Componente vertical inicial\n",
    "    disc = vy0**2 + 2*g*y0                   # Discriminante de la cuadrática en y(t)\n",
    "    if disc < 0:\n",
    "        return float('nan')\n",
    "    return (vy0 + math.sqrt(disc)) / g       # Raíz positiva\n",
    "\n",
    "\n",
    "def trayectoria_proyectil(v0: float, theta_grados: float, y0: float = 0.0, g: float = 9.81, n: int = 300):\n",
    "    \"\"\"\n",
    "    Genera (x, y) desde t=0 hasta t_vuelo.\n",
    "\n",
    "    Regresa\n",
    "    -------\n",
    "    (x: np.ndarray, y: np.ndarray, t_vuelo: float, alcance: float)\n",
    "    \"\"\"\n",
    "    theta = math.radians(theta_grados)       # Conversión grados→radianes\n",
    "    t_vuelo = tiempo_de_vuelo(v0, theta, y0, g)\n",
    "    # if not math.isfinite(t_vuelo) or t_vuelo <= 0:\n",
    "    #     # Caso patológico: devolvemos arrays mínimos para evitar errores\n",
    "    #     return np.array([0.0]), np.array([y0]), float('nan'), float('nan')\n",
    "    t = np.linspace(0, t_vuelo, n)           # Malla de tiempo uniforme\n",
    "    x = v0 * math.cos(theta) * t             # Posición x(t)\n",
    "    y = y0 + v0 * math.sin(theta) * t - 0.5 * g * t**2  # Posición y(t)\n",
    "    return x, y, t_vuelo, x[-1]              # alcance = x(t_vuelo)\n",
    "\n",
    "\n",
    "def proyectil_interactivo_con_tiempo():\n",
    "    \"\"\"\n",
    "    Interfaz interactiva: v0, θ, y0, g y tiempo t (para marcar posición instantánea).\n",
    "    \"\"\"\n",
    "\n",
    "    def graficar(v0: float = 20.0, theta: float = 45.0, y0: float = 0.0, g: float = 9.81, t: float = 1.0):\n",
    "        # Calculamos la trayectoria completa y magnitudes clave\n",
    "        x, y, t_v, R = trayectoria_proyectil(v0, theta, y0, g, n=400)\n",
    "\n",
    "        # Definimos figura y eje\n",
    "        fig, ax = plt.subplots(figsize=(7, 4.5))   # Tamaño algo mayor para texto fuera del eje\n",
    "        ax.plot(x, y, lw=2)                        # Curva de la trayectoria\n",
    "        ax.axhline(0, ls='--', alpha=0.5)          # Línea de \"suelo\" en y=0\n",
    "\n",
    "        # Marcamos la posición a tiempo t (limitando t al rango [0, t_v])\n",
    "        t_eff = min(max(t, 0.0), t_v)              # t \"efectivo\" acotado\n",
    "        x_t = v0 * math.cos(math.radians(theta)) * t_eff\n",
    "        y_t = y0 + v0 * math.sin(math.radians(theta)) * t_eff - 0.5 * g * t_eff**2\n",
    "        ax.plot([x_t], [y_t], marker='o')          # Punto actual del proyectil\n",
    "\n",
    "        # Igualar escala de ejes para no deformar la parábola\n",
    "        ax.set_aspect('equal', adjustable='box')   # Misma razón de unidades en x e y\n",
    "        ax.set_xlabel(\"x (m)\")                    # Etiqueta eje x\n",
    "        ax.set_ylabel(\"y (m)\")                    # Etiqueta eje y\n",
    "        ax.set_title(f\"Proyectil: v0={v0:.1f} m/s, θ={theta:.1f}°, y0={y0:.1f} m\")  # Título\n",
    "\n",
    "        # Ajustar límites para que las leyendas no se traslapen con la curva\n",
    "        # Añadimos margen superior del 20% sobre el máximo de y\n",
    "        y_max = max(float(np.max(y)), y0) if len(y) > 0 else y0\n",
    "        ax.set_ylim(bottom=min(-1.0, float(np.min(y)) - 0.1*abs(y_max)), top=y_max * 1.2)\n",
    "\n",
    "        # Colocar texto (t_vuelo y alcance) FUERA del área del eje: usamos fig.text\n",
    "        # fig.text(x_frac, y_frac, texto, ...) coloca texto en coordenadas de la figura (0..1)\n",
    "        info = (f\"t_vuelo ≈ {t_v:.2f} s\\n\"\n",
    "                f\"Alcance ≈ {R:.2f} m\\n\"\n",
    "                f\"t = {t_eff:.2f} s, (x(t), y(t)) ≈ ({x_t:.2f}, {y_t:.2f})\")\n",
    "        fig.text(0.02, 0.98, info, va='top')       # Texto en la esquina superior izquierda de la figura\n",
    "\n",
    "        plt.grid(True)                             # Cuadrícula de referencia\n",
    "        plt.show()                                 # Mostrar\n",
    "\n",
    "    return interact(\n",
    "        graficar,\n",
    "        v0=FloatSlider(value=20.0, min=1.0, max=60.0, step=1.0, description='v0 (m/s)'),\n",
    "        theta=FloatSlider(value=45.0, min=0.0, max=89.0, step=1.0, description='θ (°)'),\n",
    "        y0=FloatSlider(value=0.0, min=0.0, max=10.0, step=0.5, description='y0 (m)'),\n",
    "        g=FloatSlider(value=9.81, min=1.0, max=20.0, step=0.1, description='g (m/s²)'),\n",
    "        t=FloatSlider(value=1.0, min=0.0, max=10.0, step=0.05, description='t (s)')\n",
    "    )\n",
    "\n",
    "# Ejecutar:\n",
    "proyectil_interactivo_con_tiempo()\n"
   ]
  },
  {
   "cell_type": "markdown",
   "id": "6a989e5f",
   "metadata": {},
   "source": [
    "## 4. Ejercicios\n",
    "\n",
    "1. **Orden de transformaciones (frames + GIF)**: Repite el ejemplo 1.3 pero ahora **rota primero** alrededor del **centroide** y **luego traslada**. Genera los frames y crea el GIF final. Compara visualmente ambos GIFs y explica la diferencia.\n",
    "2. **Centro de rotación**: Modifica el generador de frames de rotación para rotar alrededor de un **vértice** del triángulo. ¿Cómo cambia la trayectoria de los vértices?\n",
    "3. **Efecto de los límites**: Cambia los límites del eje en los generadores de frames (1.1–1.3) y explica por qué mantenerlos fijos evita “saltos” en la animación.\n",
    "4. **Péndulo amortiguado (widget)**: Agrega un factor de decaimiento $e^{-\\alpha t}$ a $\\theta(t)$ y explora el efecto con un nuevo slider $\\alpha$.\n",
    "5. **Elipse**:¿Qué ocurre con la parametrización si $a=b$? ¿Qué ocurre con la parametrización si $a$ o $b \\to 0^+$?\n",
    "6. **Paraboloide**: Explora $c_x$ y $c_y$ negativos. ¿Cómo interpretarías geométricamente la superficie resultante?\n",
    "7. **Óptimo del alcance (proyectil)**: Con $y_0=0$ y $g$ constante, usa el widget para **estimar** el ángulo que maximiza $R$. \n"
   ]
  }
 ],
 "metadata": {
  "kernelspec": {
   "display_name": "Python 3",
   "language": "python",
   "name": "python3"
  },
  "language_info": {
   "codemirror_mode": {
    "name": "ipython",
    "version": 3
   },
   "file_extension": ".py",
   "mimetype": "text/x-python",
   "name": "python",
   "nbconvert_exporter": "python",
   "pygments_lexer": "ipython3",
   "version": "3.13.1"
  }
 },
 "nbformat": 4,
 "nbformat_minor": 5
}
