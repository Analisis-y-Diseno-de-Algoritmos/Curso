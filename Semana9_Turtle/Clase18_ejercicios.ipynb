{
 "cells": [
  {
   "cell_type": "markdown",
   "id": "ac93e180",
   "metadata": {},
   "source": [
    "# Clase de ejercicios: `turtle` + `random`"
   ]
  },
  {
   "cell_type": "markdown",
   "id": "c7feadbe",
   "metadata": {},
   "source": [
    "## 1) Introducción a números aleatorios (`random`)\n",
    "\n",
    "- `random.random()` → número en $(0,1)$.\n",
    "- `random.uniform(a,b)` → número en $[a,b]$.\n",
    "- `random.randint(a,b)` → entero en $[a,b]$ (incluye extremos).\n",
    "- `random.choice(seq)` → elige un elemento de una secuencia.\n",
    "- `random.shuffle(lista)` → reordena una lista.\n",
    "- `random.seed(valor)` → fija la semilla (reproducibilidad)."
   ]
  },
  {
   "cell_type": "code",
   "execution_count": 2,
   "id": "3f8ade8f",
   "metadata": {},
   "outputs": [
    {
     "name": "stdout",
     "output_type": "stream",
     "text": [
      "Ejemplo random(): 0.6394267984578837\n",
      "Ejemplo uniform(-1, 1): -0.9499784895546661\n",
      "Ejemplo randint(1, 6): 3\n",
      "Ejemplo choice: A\n"
     ]
    }
   ],
   "source": [
    "# 1) Demo mínima de random + ejercicios\n",
    "import random\n",
    "\n",
    "# (A) Semilla (opcional para reproducibilidad)\n",
    "random.seed(42)\n",
    "\n",
    "# (B) Ejemplos\n",
    "print('Ejemplo random():', random.random())\n",
    "print('Ejemplo uniform(-1, 1):', random.uniform(-1, 1))\n",
    "print('Ejemplo randint(1, 6):', random.randint(1, 6))\n",
    "print('Ejemplo choice:', random.choice(['A', 'B', 'C']))"
   ]
  },
  {
   "cell_type": "markdown",
   "id": "edddda49",
   "metadata": {},
   "source": [
    "## Ejercicio 1:\n",
    "1. Genera 5 números uniformes en $[0,1]$.\n",
    "2. Simula 10 lanzamientos de un dado (1–6).\n",
    "3. Elige al azar un vértice de un triángulo `A,B,C` 10 veces e imprime el resultado junto con un histograma de los resultados."
   ]
  },
  {
   "cell_type": "code",
   "execution_count": 3,
   "id": "96f8ff68",
   "metadata": {},
   "outputs": [],
   "source": [
    "# (C) Ejercicio 1: 5 uniformes en [0,1]\n",
    "# TODO: genera e imprime 5 números uniformes en [0,1]\n",
    "\n",
    "# (D) Ejercicio 2: 10 lanzamientos de un dado\n",
    "# TODO: simula 10 valores e imprímelos\n",
    "\n",
    "# (E) Ejercicio 3: elegir vértices A,B,C 10 veces\n",
    "# TODO: usa random.choice sobre ['A', 'B', 'C']\n"
   ]
  },
  {
   "cell_type": "markdown",
   "id": "54b23578",
   "metadata": {},
   "source": [
    "## 2) Transofrmaciones\n",
    "## Ejercicio 2:\n",
    "**Instrucciones:**\n",
    "1. Construye un **pentágono regular** centrado en el origen de lado `L`.  \n",
    "2. Implementa funciones para **trasladar**, **rotar** y **escalar** listas de puntos.  \n",
    "3. Dibuja el pentágono original y el transformado (diferentes colores). \n",
    "4. Implementa el codigo en un archivo llamado `ejercicio2.py`"
   ]
  },
  {
   "cell_type": "markdown",
   "id": "23e093fd",
   "metadata": {},
   "source": [
    "## 3) Dos tortugas de diferente color dibujando simultáneamente\n",
    "\n",
    "## Ejercicio 3:\n",
    "\n",
    "**Instrucciones:**\n",
    "1. Crea dos tortugas `a` y `b` con colores diferentes y forma `\"turtle\"`.  \n",
    "2. Haz que **ambas dibujen** de forma \"simultánea\": alterna sus pasos dentro de un mismo bucle.  \n",
    "3. Por ejemplo, `a` dibuja un pentágono y `b` una estrella, o ambas espirales con parámetros distintos.\n",
    "4. Implementa el codigo en un archivo llamado `ejercicio3.py`\n",
    "\n",
    "El resultado debe ser como el de la siguiente imagen:"
   ]
  },
  {
   "cell_type": "markdown",
   "id": "6b07c46e",
   "metadata": {},
   "source": [
    "![DosTortugas](imgs/DosTortugas.png)"
   ]
  },
  {
   "cell_type": "markdown",
   "id": "5a0f03cf",
   "metadata": {},
   "source": [
    "## 4) Juego del caos \n",
    "## Ejercicio 4:\n",
    "**Idea:** Empieza en un punto cualquiera y repite muchas veces:\n",
    "1. Elige aleatoriamente uno de los vértices de un triángulo equilátero `A,B,C`.\n",
    "2. Mueve tu punto actual al **punto medio** entre él y el vértice elegido.\n",
    "3. Dibuja un `dot` pequeño.\n",
    "\n",
    "\n",
    "- Dibuja al menos `n_puntos = 10,000` puntos.\n",
    "- Experimenta con la **semilla** (`random.seed`) para reproducibilidad.\n",
    "- (**Extra**) Cambia la razón del punto medio (p. ej. 1/3) y observa el patrón.\n",
    "- Implementa el codigo en un archivo llamado `ejercicio4.py`\n",
    "\n",
    "> Nota: Dentro de tu ciclo añade la siguiente instrucción para que veas la evoluvión del dibujo:\n",
    "\n",
    "`if i % 500 == 0: t.update()`"
   ]
  },
  {
   "cell_type": "markdown",
   "id": "a194c05f",
   "metadata": {},
   "source": [
    "## 5) Árbol ternario\n",
    "## Ejercicio 5:\n",
    "**Instrucciones:**\n",
    "- Parte del árbol binario recursivo que ya tienes de la clase pasada.\n",
    "- Ahora, en cada nodo, dibuja **tres** ramas: con ángulos `-θ`, `0`, `+θ`.  \n",
    "- Reduce la longitud (p. ej. factor `0.7`) en cada nivel y termina cuando `n == 0`.\n",
    "- - Implementa el codigo en un archivo llamado `ejercicio5.py`\n",
    "\n",
    "El resultado debe ser como el de la siguiente imagen:"
   ]
  },
  {
   "cell_type": "markdown",
   "id": "79048082",
   "metadata": {},
   "source": [
    "<img src=\"imgs/ArbolTernario.png\" alt=\"Arbol Ternario\" width=\"300\" height=\"300\">\n"
   ]
  },
  {
   "cell_type": "markdown",
   "id": "88af3740",
   "metadata": {},
   "source": [
    "## 6) Mini-juego *Snake* (básico)\n",
    "\n",
    "**Objetivo:** Controlar una tortuga que se mueve por la pantalla y **come** objetos.  \n",
    "Cuando colisiona con un objeto, éste debe **desaparecer** y reaparecer en otra posición (o eliminarse).\n",
    "\n",
    "**Ideas clave:**\n",
    "- Movimiento continuo con `ontimer(mover, delay)`.\n",
    "- Control con flechas: `onkey(...)` y `listen()`.\n",
    "- **Objetos**: puedes representarlos con **otras tortugas** (por ejemplo, círculos/`dot`).\n",
    "- **Colisión**: usa `dist = snake.distance(objeto)` y si `dist < umbral`, haz `objeto.hideturtle()` y colócalo en otro lugar.\n",
    "\n",
    "Una implementación esta en el archivo `sanke.py` "
   ]
  }
 ],
 "metadata": {
  "kernelspec": {
   "display_name": "Python 3",
   "language": "python",
   "name": "python3"
  },
  "language_info": {
   "codemirror_mode": {
    "name": "ipython",
    "version": 3
   },
   "file_extension": ".py",
   "mimetype": "text/x-python",
   "name": "python",
   "nbconvert_exporter": "python",
   "pygments_lexer": "ipython3",
   "version": "3.13.1"
  }
 },
 "nbformat": 4,
 "nbformat_minor": 5
}
