{
 "cells": [
  {
   "cell_type": "markdown",
   "id": "de9e917d",
   "metadata": {},
   "source": [
    "# Introducción a `turtle`\n"
   ]
  },
  {
   "cell_type": "markdown",
   "id": "4bc02a05",
   "metadata": {},
   "source": [
    "**Objetivo**: conocer los comandos esenciales de `turtle`, ver ejemplos prácticos y resolver ejercicios de transformaciones 2D, programación iterativa/recursiva y fractales."
   ]
  },
  {
   "cell_type": "markdown",
   "id": "936a6cea",
   "metadata": {},
   "source": [
    "## 1. Comandos básicos\n",
    "\n",
    "### Componentes principales\n",
    "- **Screen**: la ventana/canvas donde se dibuja.\n",
    "- **Turtle**: el \"cursor\" que se mueve y deja rastro.\n",
    "\n",
    "### Comandos frecuentes (resumen)\n",
    "- **Ventana**: `screen = t.Screen(); screen.bgcolor(\"white\"); screen.title(\"Mi dibujo\")`\n",
    "- **Tortuga**: `p = t.Turtle(); p.shape(\"turtle\"); p.color(\"black\"); p.pensize(2); p.speed(0)`\n",
    "- **Movimiento**: `forward(d)`, `backward(d)`, `left(ang)`, `right(ang)`, `goto(x, y)`, `setheading(ang)`\n",
    "- **Pluma**: `penup()`, `pendown()`, `color(c)`, `fillcolor(c)`, `begin_fill()`, `end_fill()`\n",
    "- **Círculos/puntos**: `circle(r)`, `dot(size)`\n",
    "- **Rendimiento**: `tracer(0)`, `update()`\n",
    "- **Eventos**: `onkey(func, \"Up\")`, `listen()`, `onscreenclick(func)`\n",
    "- **Finalizar**: `done()` (deja la ventana abierta hasta cerrarla).\n",
    "\n",
    "### Coordenadas\n",
    "- El centro de la ventana es `(0, 0)`.\n",
    "- Eje x positivo hacia la derecha; eje y positivo hacia arriba.\n",
    "\n",
    "### Colores\n",
    "- Una lista de colores para usar esta en la siguiente [página](https://trinket.io/docs/colors)\n",
    "\n"
   ]
  },
  {
   "cell_type": "markdown",
   "id": "d368d77d",
   "metadata": {},
   "source": [
    "## 2. Ejemplos de cómo usar `turtle`\n",
    "\n",
    "En la carpeta ejemplos encontraran algunos ejemplos listos para ejecutar."
   ]
  },
  {
   "cell_type": "markdown",
   "id": "e5c5a45f",
   "metadata": {},
   "source": [
    "## 3. Ejemplos: Transformaciones 2D\n",
    "\n",
    "### Representación\n",
    "- Usaremos **listas de puntos**: `[(x1, y1), (x2, y2), ...]`.\n",
    "- Una figura se dibuja conectando sus puntos en orden y cerrando el contorno si hace falta.\n"
   ]
  },
  {
   "cell_type": "markdown",
   "id": "5b4b57ac",
   "metadata": {},
   "source": [
    "### Ejercicio 3.1 — Traslación y rotación de un triángulo\n",
    "\n",
    "1. Define un triángulo `tri = [(-60,-30),(70,-20),(0,80)]`.\n",
    "2. **Traslada** el triángulo por un vector `(dx, dy)` a tu elección.\n",
    "3. **Rota** el triángulo final `+35°` alrededor de su centroide.\n",
    "4. **Dibuja** las tres figuras con colores distintos."
   ]
  },
  {
   "cell_type": "markdown",
   "id": "4426029e",
   "metadata": {},
   "source": [
    "### Ejercicio 3.2 — Escala de la letra “L” respecto a su centroide\n",
    "\n",
    "- Construye una letra “L” con puntos, por ejemplo:\n",
    "  ```python\n",
    "  L = [(-80,80), (-20,80), (-20,0), (60,0), (60,-40), (-80,-40)]\n",
    "  ```\n",
    "- Escálala por `sx = 1.3`, `sy = 0.7` respecto de su centroide.\n",
    "- Dibuja ambas (antes/después) con colores distintos."
   ]
  },
  {
   "cell_type": "markdown",
   "id": "577bfdda",
   "metadata": {},
   "source": [
    "### Ejercicio 3.3 — Reflexiones y composición\n",
    "\n",
    "- Implementa `reflejar_x(puntos)` y `reflejar_y(puntos)`.\n",
    "- Compón transformaciones: refleja en **y** y luego rota 90°.\n",
    "- Dibuja el antes y después."
   ]
  },
  {
   "cell_type": "markdown",
   "id": "13a60b18",
   "metadata": {},
   "source": [
    "## 4. Ejemplos: Programación iterativa y recursiva\n",
    "\n",
    "Practicamos la diferencia entre **hacer un proceso por pasos** (iteración) y **definirlo en términos de sí mismo** (recursión).\n"
   ]
  },
  {
   "cell_type": "markdown",
   "id": "d7a2e41b",
   "metadata": {},
   "source": [
    "### Ejercicio 4.1 — Espiral (iterativa)\n",
    "\n",
    "Implementa una espiral que aumente el paso cada vuelta y cambie ligeramente el ángulo.\n"
   ]
  },
  {
   "cell_type": "markdown",
   "id": "70b13a67",
   "metadata": {},
   "source": [
    "### Ejercicio 4.2 — Árbol binario (recursión)\n",
    "\n",
    "Dibuja un árbol recursivo:\n",
    "1. Dibuja un segmento de longitud `L`.\n",
    "2. Avanza al extremo, reduce la longitud (p. ej., `L*0.7`) y bifurca con ángulos `±θ`.\n",
    "3. Repite hasta profundidad `n`.\n"
   ]
  },
  {
   "cell_type": "markdown",
   "id": "17193fd9",
   "metadata": {},
   "source": [
    "## 5. Ejemplos: Fractales\n"
   ]
  },
  {
   "cell_type": "markdown",
   "id": "02a1107d",
   "metadata": {},
   "source": [
    "### Ejercicio 5.1 — Segmento de Koch y copo de nieve\n",
    "\n",
    "1. Define un procedimiento `koch(l, n)` que dibuje un **segmento** de Koch de longitud `l` y nivel `n`.\n",
    "2. Dibuja el **copo** repitiendo 3 veces el segmento y girando `-120°`."
   ]
  },
  {
   "cell_type": "markdown",
   "id": "f330d811",
   "metadata": {},
   "source": [
    "### Ejercicio 5.2 — Triángulo de Sierpinski (recursión)\n",
    "\n",
    "- Función `triangulo(p1, p2, p3)` que dibuje el triángulo.\n",
    "- Función recursiva `sierpinski(p1, p2, p3, n)`:\n",
    "  - Caso base: si `n == 0`, dibuja el triángulo.\n",
    "  - Si no, calcula los puntos medios de los lados y llama recursivamente en los 3 triángulos más pequeños."
   ]
  },
  {
   "cell_type": "markdown",
   "id": "87a00698",
   "metadata": {},
   "source": [
    "# Ejercicios\n",
    "\n",
    "Ejecuta todos los archivos con extención `.py`, modificando los valores de las funciones y observando que cambia en la animación. Adjunta capturas de pantalla para ilustrar tus observaciones. \n"
   ]
  }
 ],
 "metadata": {
  "kernelspec": {
   "display_name": "Python 3",
   "language": "python",
   "name": "python3"
  },
  "language_info": {
   "codemirror_mode": {
    "name": "ipython",
    "version": 3
   },
   "file_extension": ".py",
   "mimetype": "text/x-python",
   "name": "python",
   "nbconvert_exporter": "python",
   "pygments_lexer": "ipython3",
   "version": "3.13.1"
  }
 },
 "nbformat": 4,
 "nbformat_minor": 5
}
