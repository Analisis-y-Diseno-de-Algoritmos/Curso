{
 "cells": [
  {
   "cell_type": "markdown",
   "id": "bdddd27b",
   "metadata": {},
   "source": [
    "# <span style=\"font-family:Georgia; text-align:center;\">Funciones y librerias</span> \n",
    "<span style=\"font-family:Georgia;\">\n",
    "\n",
    "## ¿Qué es una función?\n",
    "\n",
    "En matemáticas, una función es una regla $f: X \\to Y$ que asigna a cada elemento $x \\in X$ un único elemento $y \\in Y$. En Python, una función es un objeto que encapsula un bloque de código, recibe argumentos y puede retornar un valor.\n",
    "\n",
    " **Ventajas de implementar funciones**: reutilización, modularidad, prueba y depuración local, documentación.\n",
    "\n",
    "## Sintaxis básica: `def`, parámetros, `return`, docstrings y type hints\n",
    "\n",
    "- `def`: introduce la definición.\n",
    "\n",
    "- **Parámetros**:\n",
    "\n",
    "    - Posicionales obligatorios: par1.\n",
    "\n",
    "    - Con valor por defecto: par2=... (se evalúan una vez al definir la función).\n",
    "\n",
    "    - Variádicos posicionales: *args (tupla).\n",
    "\n",
    "    - Keyword-only: los que van después de * deben pasarse por nombre (p. ej. par_kw).\n",
    "\n",
    "    - Variádicos por palabra clave: **kwargs (diccionario).\n",
    "\n",
    "- `return`: finaliza la función y devuelve un valor. Sin return, la función retorna None.\n",
    "\n",
    "- Docstring: cadena entre comillas triples al inicio del cuerpo; accesible con help(f).\n",
    "\n",
    "- Anotaciones de tipo (type hints): -> Tipo, par: Tipo. Son informativas (para herramientas/editores); Python no las aplica en tiempo de ejecución.\n",
    "\n",
    "```python\n",
    "def nombre_funcion(par1, par2=valor_por_defecto, *args, par_kw=None, **kwargs) -> TipoRetorno:\n",
    "    \"\"\"\n",
    "    Docstring: explica qué hace la función, parámetros, retorno y errores.\n",
    "    \"\"\"\n",
    "    # cuerpo\n",
    "    return resultado\n",
    "```"
   ]
  },
  {
   "cell_type": "markdown",
   "id": "520b78b4",
   "metadata": {},
   "source": [
    "# <span style=\"font-family:Georgia; text-align:center;\">Ejemplos</span> \n",
    "<span style=\"font-family:Georgia;\">"
   ]
  },
  {
   "cell_type": "code",
   "execution_count": 2,
   "id": "5dea28bf",
   "metadata": {},
   "outputs": [],
   "source": [
    "def es_par(n: int) -> bool:\n",
    "    \"\"\"\n",
    "    Determina si n es par.\n",
    "\n",
    "    Parámetros\n",
    "    ----------\n",
    "    n : int\n",
    "        Entero a evaluar.\n",
    "\n",
    "    Retorna\n",
    "    -------\n",
    "    bool\n",
    "        True si n es par, False en caso contrario.\n",
    "    \"\"\"\n",
    "    return n % 2 == 0\n"
   ]
  },
  {
   "cell_type": "code",
   "execution_count": 3,
   "id": "ccd2e407",
   "metadata": {},
   "outputs": [
    {
     "name": "stdout",
     "output_type": "stream",
     "text": [
      "Help on function es_par in module __main__:\n",
      "\n",
      "es_par(n: int) -> bool\n",
      "    Determina si n es par.\n",
      "\n",
      "    Parámetros\n",
      "    ----------\n",
      "    n : int\n",
      "        Entero a evaluar.\n",
      "\n",
      "    Retorna\n",
      "    -------\n",
      "    bool\n",
      "        True si n es par, False en caso contrario.\n",
      "\n"
     ]
    }
   ],
   "source": [
    "help(es_par)"
   ]
  },
  {
   "cell_type": "code",
   "execution_count": 15,
   "id": "712b74b5",
   "metadata": {},
   "outputs": [
    {
     "ename": "AssertionError",
     "evalue": "",
     "output_type": "error",
     "traceback": [
      "\u001b[1;31m---------------------------------------------------------------------------\u001b[0m",
      "\u001b[1;31mAssertionError\u001b[0m                            Traceback (most recent call last)",
      "Cell \u001b[1;32mIn[15], line 2\u001b[0m\n\u001b[0;32m      1\u001b[0m \u001b[38;5;66;03m# Pruebas rápidas\u001b[39;00m\n\u001b[1;32m----> 2\u001b[0m \u001b[38;5;28;01massert\u001b[39;00m es_par(\u001b[38;5;241m2\u001b[39m) \u001b[38;5;129;01mis\u001b[39;00m \u001b[38;5;28;01mFalse\u001b[39;00m \u001b[38;5;66;03m# La salida es un error(AssertionError) pues 2 es par\u001b[39;00m\n",
      "\u001b[1;31mAssertionError\u001b[0m: "
     ]
    }
   ],
   "source": [
    "# Pruebas rápidas\n",
    "assert es_par(2) is False # La salida es un error(AssertionError) pues 2 es par"
   ]
  },
  {
   "cell_type": "code",
   "execution_count": 10,
   "id": "95ebb64d",
   "metadata": {},
   "outputs": [],
   "source": [
    "assert es_par(3) is False # No hay salida porque la prueba es correcta"
   ]
  },
  {
   "cell_type": "code",
   "execution_count": 13,
   "id": "bbb55ef2",
   "metadata": {},
   "outputs": [],
   "source": [
    "def division_y_residuo(a: int, b: int) -> tuple[int, int]:\n",
    "    \"\"\"\n",
    "    Retorna el cociente y el residuo de dividir a entre b.\n",
    "    \"\"\"\n",
    "    if b == 0:\n",
    "        raise ValueError(\"El divisor b no puede ser 0.\")\n",
    "    return a // b, a % b\n",
    "\n",
    "coc, res = division_y_residuo(17, 5)\n",
    "assert (coc, res) == (3, 2)\n"
   ]
  },
  {
   "cell_type": "markdown",
   "id": "c9e55fdf",
   "metadata": {},
   "source": [
    "## <span style=\"font-family:Georgia; text-align:center;\">Clases de parámetros y firma avanzada</span> \n",
    "<span style=\"font-family:Georgia;\">\n",
    "\n",
    "\n",
    "En Python moderno se puede controlar la forma de pasar argumentos:\n",
    "\n",
    "```python\n",
    "def f(a, b, /, c, d=0, *args, e, **kwargs):\n",
    "    ...\n",
    "```\n",
    "\n",
    "- Antes de /: posicionales solamente.\n",
    "\n",
    "- Entre / y *: posicionales o por nombre.\n",
    "\n",
    "- Después de *: solo por nombre.\n",
    "\n",
    "- *args: captura posicionales extra. **kwargs: captura clave-valor extra."
   ]
  },
  {
   "cell_type": "markdown",
   "id": "07bfe503",
   "metadata": {},
   "source": [
    "## <span style=\"font-family:Georgia; text-align:center;\">Variables globales y no-locales</span> \n",
    "<span style=\"font-family:Georgia;\">"
   ]
  },
  {
   "cell_type": "code",
   "execution_count": 56,
   "id": "857ca5ec",
   "metadata": {},
   "outputs": [
    {
     "data": {
      "text/plain": [
       "99"
      ]
     },
     "execution_count": 56,
     "metadata": {},
     "output_type": "execute_result"
    }
   ],
   "source": [
    "x = 10  # variable global\n",
    "\n",
    "def usa_local():\n",
    "    \"\"\"\n",
    "    Función que usa una variable local.\n",
    "    \"\"\"\n",
    "    x = 99  # sombra a la global dentro del ámbito local\n",
    "    return x\n",
    "\n",
    "def usa_global():\n",
    "    \"\"\"\n",
    "    Función que usa una variable global.\n",
    "    \"\"\"\n",
    "    global x\n",
    "    x = x + 1  # modifica la global\n",
    "    return x\n",
    "\n",
    "usa_local()\n"
   ]
  },
  {
   "cell_type": "code",
   "execution_count": null,
   "id": "6045d916",
   "metadata": {},
   "outputs": [
    {
     "name": "stdout",
     "output_type": "stream",
     "text": [
      "Outer count: 0\n"
     ]
    }
   ],
   "source": [
    "def ejemplo_nonlocal():\n",
    "    \"\"\"\n",
    "    Función que usa una variable nonlocal.\n",
    "    \"\"\"\n",
    "    mensaje = \"Hola\"\n",
    "    def anidar():\n",
    "        nonlocal mensaje\n",
    "        mensaje = mensaje + \" mundo\"\n",
    "    anidar()\n",
    "    return mensaje\n",
    "\n",
    "def outer_function():\n",
    "    \"\"\"\n",
    "    Función que contiene una variable nonlocal.\n",
    "    \"\"\"\n",
    "    count = 0\n",
    "\n",
    "    def inner_function():\n",
    "        nonlocal count  \n",
    "        count += 1\n",
    "        print(f\"Inner count: {count}\") # print( \"Inner count \"+ str(count))\n",
    "\n",
    "    # inner_function()\n",
    "    print(f\"Outer count: {count}\")\n",
    "\n",
    "#assert usa_local() == 99\n",
    "#assert usa_global() == 11  # x global cambió de 10 a 11\n",
    "#assert ejemplo_nonlocal() == \"Hola mundo\"\n",
    "\n",
    "outer_function()"
   ]
  },
  {
   "cell_type": "markdown",
   "id": "1abbccfc",
   "metadata": {},
   "source": [
    "## <span style=\"font-family:Georgia; text-align:center;\">Datos mutables e inmutables</span> \n",
    "<span style=\"font-family:Georgia;\">\n",
    "\n",
    "Python pasa referencias a objetos; no copia los objetos. Dos consecuencias:\n",
    "\n",
    "- Reasignar un nombre no afecta al llamador (p. ej. n += 1 con enteros, que son inmutables).\n",
    "\n",
    "- Mutar un objeto sí afecta si el objeto es mutable (listas, diccionarios, conjuntos)."
   ]
  },
  {
   "cell_type": "code",
   "execution_count": null,
   "id": "90a3036b",
   "metadata": {},
   "outputs": [
    {
     "data": {
      "text/plain": [
       "[1, 2, 42]"
      ]
     },
     "execution_count": 59,
     "metadata": {},
     "output_type": "execute_result"
    }
   ],
   "source": [
    "def intenta_incrementar(n: int) -> None:\n",
    "    \"\"\"\n",
    "    Función que intenta incrementar un entero.\n",
    "    \"\"\"\n",
    "    n += 1  # NO afecta el entero fuera (inmutable)\n",
    "\n",
    "def agrega_elemento(lst: list) -> None:\n",
    "    \"\"\"\n",
    "    Función que agrega un elemento a una lista.\n",
    "    \"\"\"\n",
    "    lst.append(42)  # SÍ afecta la lista fuera (mutable)\n",
    "\n",
    "a = 5\n",
    "intenta_incrementar(a)\n",
    "assert a == 5  # sin cambio\n",
    "\n",
    "b = [1, 2]\n",
    "agrega_elemento(b)\n",
    "#assert b == [1, 2, 42]  # cambia por ser mutable\n",
    "b"
   ]
  },
  {
   "cell_type": "code",
   "execution_count": 18,
   "id": "c958edca",
   "metadata": {},
   "outputs": [],
   "source": [
    "# Para evitar efectos laterales, pasa una copia:\n",
    "c = [1, 2]\n",
    "agrega_elemento(c.copy())  # o list(c) o c[:]\n",
    "assert c == [1, 2]"
   ]
  },
  {
   "cell_type": "markdown",
   "id": "76f7033d",
   "metadata": {},
   "source": [
    "## <span style=\"font-family:Georgia; text-align:center;\">Algoritmo 1</span> \n",
    "<span style=\"font-family:Georgia;\">\n",
    "\n",
    "*Dados tres números, determinar si la suma de cualquier pareja de ellos es igual al tercer número. Si se cumple esta condición, escribir “Iguales” y, en caso contrario, escribir “Distintas”*."
   ]
  },
  {
   "cell_type": "code",
   "execution_count": 20,
   "id": "63c30988",
   "metadata": {},
   "outputs": [],
   "source": [
    "def son_sumas_iguales(a: float, b: float, c: float) -> bool:\n",
    "    \"\"\"\n",
    "    Retorna True si existe una pareja cuya suma es igual al tercer número.\n",
    "    Funciona con enteros o flotantes exactos; si manejas flotantes con redondeo,\n",
    "    añade una tolerancia.\n",
    "    \"\"\"\n",
    "    return (a + b == c) or (a + c == b) or (b + c == a)\n",
    "\n",
    "def imprime_resultado_sumas(a: float, b: float, c: float) -> None:\n",
    "    print(\"Iguales\" if son_sumas_iguales(a, b, c) else \"Distintas\")\n",
    "\n",
    "# Pruebas\n",
    "assert son_sumas_iguales(2, 3, 5) is True\n",
    "assert son_sumas_iguales(3, 3, 6) is True\n",
    "assert son_sumas_iguales(-5, 2, -3) is True  # funciona con negativos\n",
    "assert son_sumas_iguales(1, 2, 4) is False\n"
   ]
  },
  {
   "cell_type": "code",
   "execution_count": null,
   "id": "be422a8f",
   "metadata": {},
   "outputs": [],
   "source": [
    "def son_sumas_iguales_equiv(a: float, b: float, c: float) -> bool:\n",
    "    \"\"\"\n",
    "    Verifica si alguna de las sumas es igual a la otra.\n",
    "    \"\"\"\n",
    "    total = a + b + c\n",
    "    return any(2*x == total for x in (a, b, c))\n",
    "\n",
    "assert son_sumas_iguales_equiv(2, 3, 5) is True\n",
    "assert son_sumas_iguales_equiv(-5, 2, -3) is True\n",
    "assert son_sumas_iguales_equiv(1, 2, 4) is False\n"
   ]
  },
  {
   "cell_type": "code",
   "execution_count": 60,
   "id": "f147e68d",
   "metadata": {},
   "outputs": [
    {
     "data": {
      "text/plain": [
       "False"
      ]
     },
     "execution_count": 60,
     "metadata": {},
     "output_type": "execute_result"
    }
   ],
   "source": [
    "def iguales_con_tolerancia(a: float, b: float, c: float, tol: float = 1e-9) -> bool:\n",
    "    \"\"\"\n",
    "    Verifica si alguna de las sumas es igual a la otra con una tolerancia dada.\n",
    "    \"\"\"\n",
    "    def eq(x, y): \n",
    "        return abs(x - y) <= tol\n",
    "    return eq(a + b, c) or eq(a + c, b) or eq(b + c, a)\n",
    "\n",
    "iguales_con_tolerancia(1.0, 1.0, 1.0)"
   ]
  },
  {
   "cell_type": "code",
   "execution_count": 23,
   "id": "3370b9ed",
   "metadata": {},
   "outputs": [
    {
     "data": {
      "application/vnd.jupyter.widget-view+json": {
       "model_id": "9dc72a6c3c7a4f5882568805399ad212",
       "version_major": 2,
       "version_minor": 0
      },
      "text/plain": [
       "interactive(children=(FloatText(value=2.0, description='a'), FloatText(value=3.0, description='b'), FloatText(…"
      ]
     },
     "metadata": {},
     "output_type": "display_data"
    }
   ],
   "source": [
    "from ipywidgets import interact, FloatText, HBox\n",
    "\n",
    "def ui_problema1(a: float, b: float, c: float):\n",
    "    print(\"Iguales\" if son_sumas_iguales(a,b,c) else \"Distintas\")\n",
    "\n",
    "interact(ui_problema1, a=FloatText(value=2.0), b=FloatText(value=3.0), c=FloatText(value=5.0));"
   ]
  },
  {
   "cell_type": "markdown",
   "id": "36f8c9bd",
   "metadata": {},
   "source": [
    "## <span style=\"font-family:Georgia; text-align:center;\">Algoritmo 2</span> \n",
    "<span style=\"font-family:Georgia;\">\n",
    "\n",
    "*Supongamos que se proporciona una secuencia de números, tales como* $$ 3 0 0 2 0 4 1 0 7 2 0 9 7 $$ *y desea contar e imprimir el número de ceros de la secuencia.*"
   ]
  },
  {
   "cell_type": "markdown",
   "id": "c271bf34",
   "metadata": {},
   "source": [
    "\n",
    "<span style=\"font-family:Georgia;\">\n",
    "\n",
    "Algunas herramientas útiles son las siguientes:"
   ]
  },
  {
   "cell_type": "code",
   "execution_count": 39,
   "id": "7fef303f",
   "metadata": {},
   "outputs": [
    {
     "name": "stdout",
     "output_type": "stream",
     "text": [
      "0 3\n",
      "1 0\n",
      "2 0\n",
      "3 2\n",
      "4 0\n",
      "5 4\n",
      "6 1\n",
      "7 0\n",
      "8 7\n",
      "9 2\n",
      "10 0\n",
      "11 9\n",
      "12 7\n"
     ]
    }
   ],
   "source": [
    "datos = [3, 0, 0, 2, 0, 4, 1, 0, 7, 2, 0, 9, 7]\n",
    "\n",
    "# Conteos y agregaciones\n",
    "n = len(datos)  # Número de elementos\n",
    "suma = sum(datos)  # Suma de todos los elementos\n",
    "hay_cero = any(x == 0 for x in datos)  # Hay al menos un cero\n",
    "todos_no_neg = all(x >= 0 for x in datos)  # Todos son no negativos\n",
    "\n",
    "# Recorridos con índice\n",
    "for i, x in enumerate(datos): # enumerate crea pares (índice, valor) con valor en datos\n",
    "    print(i, x)  # usa i y x\n"
   ]
  },
  {
   "cell_type": "markdown",
   "id": "92f3e5dc",
   "metadata": {},
   "source": [
    "## <span style=\"font-family:Georgia; text-align:center;\">Importar librerias</span> \n",
    "<span style=\"font-family:Georgia;\">"
   ]
  },
  {
   "cell_type": "code",
   "execution_count": null,
   "id": "5aad30de",
   "metadata": {},
   "outputs": [],
   "source": [
    "import math\n",
    "import statistics as stats\n",
    "from collections import Counter\n",
    "\n",
    "raiz_9 = math.sqrt(9) # calcula la raíz cuadrada de 9\n",
    "media = stats.mean([1, 2, 3, 4]) # calcula la media\n",
    "conteo = Counter(\"abracadabra\")  # conteo de caracteres"
   ]
  },
  {
   "cell_type": "code",
   "execution_count": null,
   "id": "520b05b4",
   "metadata": {},
   "outputs": [],
   "source": [
    "def contar_ceros_bucle(seq: list[int]) -> int:\n",
    "    \"\"\"\n",
    "    Cuenta los ceros en una secuencia de enteros.\n",
    "    \"\"\"\n",
    "    contador = 0\n",
    "    for x in seq:\n",
    "        if x == 0:\n",
    "            contador += 1\n",
    "    return contador\n",
    "\n",
    "assert contar_ceros_bucle(datos) == 5"
   ]
  },
  {
   "cell_type": "code",
   "execution_count": null,
   "id": "f73d798e",
   "metadata": {},
   "outputs": [],
   "source": [
    "def contar_ceros_count(seq: list[int]) -> int:\n",
    "    \"\"\"\n",
    "    Cuenta los ceros en una secuencia de enteros.\n",
    "    \"\"\"\n",
    "    # count() es un método de las listas que cuenta cuántas veces aparece un elemento.\n",
    "    return seq.count(0)\n",
    "\n",
    "assert contar_ceros_count(datos) == 5"
   ]
  },
  {
   "cell_type": "code",
   "execution_count": null,
   "id": "e6890d88",
   "metadata": {},
   "outputs": [],
   "source": [
    "def contar_ceros_sum(seq: list[int]) -> int:\n",
    "    \"\"\"\n",
    "    Cuenta los ceros en una secuencia de enteros.\n",
    "    \"\"\"\n",
    "    # sum() es una función que suma todos los elementos de un iterable.\n",
    "    return sum(1 for x in seq if x == 0)\n",
    "\n",
    "assert contar_ceros_sum(datos) == 5"
   ]
  },
  {
   "cell_type": "code",
   "execution_count": 37,
   "id": "1628314f",
   "metadata": {},
   "outputs": [],
   "source": [
    "from collections import Counter\n",
    "\n",
    "def contar_ceros_counter(seq: list[int]) -> int:\n",
    "    \"\"\"\n",
    "    Cuenta los ceros en una secuencia de enteros.\n",
    "    \"\"\"\n",
    "    # Counter toma como argumento (lo que esta entre ()) la secuencia a contar \n",
    "    # y como clave (lo que esta entre []) el elemento y como valor su frecuencia\n",
    "\n",
    "    return Counter(seq)[0] \n",
    "assert contar_ceros_counter(datos) == 5\n"
   ]
  },
  {
   "cell_type": "markdown",
   "id": "c490f035",
   "metadata": {},
   "source": [
    "## <span style=\"font-family:Georgia; text-align:center;\">Algoritmo 3</span> \n",
    "<span style=\"font-family:Georgia;\">\n",
    "\n",
    "*Algoritmo para calcular la raíz cuadrada de un número $x$*"
   ]
  },
  {
   "cell_type": "code",
   "execution_count": null,
   "id": "1807e00c",
   "metadata": {},
   "outputs": [],
   "source": [
    "def raiz_cuadrada(x: float, tol: float = 1e-12, max_iter: int = 10_000) -> float:\n",
    "    \"\"\"\n",
    "    Calcula sqrt(x).\n",
    "\n",
    "    Parámetros\n",
    "    ----------\n",
    "    x : float\n",
    "        Número del que se desea la raíz cuadrada. Debe ser x >= 0.\n",
    "    tol : float\n",
    "        Tolerancia relativa para detener el algoritmo.\n",
    "    max_iter : int\n",
    "        Máximo de iteraciones para evitar bucles infinitos.\n",
    "\n",
    "    Retorna\n",
    "    -------\n",
    "    float\n",
    "        Aproximación de sqrt(x).\n",
    "\n",
    "    Errores\n",
    "    -------\n",
    "    ValueError\n",
    "        Si x < 0, tol <= 0 o max_iter <= 0.\n",
    "    \"\"\"\n",
    "    if x < 0:\n",
    "        raise ValueError(\"x debe ser no negativo.\")\n",
    "    if tol <= 0:\n",
    "        raise ValueError(\"tol debe ser positiva.\")\n",
    "    if max_iter <= 0:\n",
    "        raise ValueError(\"max_iter debe ser positiva.\")\n",
    "\n",
    "    # Casos triviales\n",
    "    if x == 0.0:\n",
    "        return 0.0\n",
    "    if x == 1.0:\n",
    "        return 1.0\n",
    "\n",
    "    b = x  \n",
    "    for _ in range(max_iter):\n",
    "        nuevo = 0.5 * (b + x / b)\n",
    "        if abs(nuevo - b) <= tol * max(1.0, abs(nuevo)):\n",
    "            return nuevo\n",
    "        b = nuevo\n",
    "    # Si no converge dentro de max_iter, devolvemos la mejor aproximación disponible.\n",
    "    return b"
   ]
  },
  {
   "cell_type": "code",
   "execution_count": 46,
   "id": "30a79f88",
   "metadata": {},
   "outputs": [
    {
     "name": "stdout",
     "output_type": "stream",
     "text": [
      "Pruebas de raíz cuadrada: OK\n"
     ]
    }
   ],
   "source": [
    "import math\n",
    "\n",
    "# Valores exactos\n",
    "assert abs(raiz_cuadrada(0) - 0.0) <= 1e-12\n",
    "assert abs(raiz_cuadrada(1) - 1.0) <= 1e-12\n",
    "assert abs(raiz_cuadrada(4) - 2.0) <= 1e-10\n",
    "assert abs(raiz_cuadrada(9) - 3.0) <= 1e-10\n",
    "\n",
    "# Comparación con math.sqrt\n",
    "for x in [2, 3, 5, 10, 1e-6, 1e6]:\n",
    "    est = raiz_cuadrada(x)\n",
    "    ref = math.sqrt(x)\n",
    "    assert abs(est - ref) <= 1e-10 * max(1.0, ref)\n",
    "\n",
    "print(\"Pruebas de raíz cuadrada: OK\")\n"
   ]
  },
  {
   "cell_type": "code",
   "execution_count": 47,
   "id": "b7453ea4",
   "metadata": {},
   "outputs": [
    {
     "data": {
      "application/vnd.jupyter.widget-view+json": {
       "model_id": "bd2c7feaeb444b249aa698ca3df439cf",
       "version_major": 2,
       "version_minor": 0
      },
      "text/plain": [
       "interactive(children=(FloatLogSlider(value=2.0, description='x', max=6.0, min=-6.0), Output()), _dom_classes=(…"
      ]
     },
     "metadata": {},
     "output_type": "display_data"
    }
   ],
   "source": [
    "from ipywidgets import interact, FloatLogSlider\n",
    "\n",
    "interact(\n",
    "    lambda x: print(f\"√{x} ≈ {raiz_cuadrada(x)}\"),\n",
    "    x=FloatLogSlider(value=2.0, base=10, min=-6, max=6, step=0.1, description='x')\n",
    ");\n"
   ]
  },
  {
   "cell_type": "markdown",
   "id": "162ba8d8",
   "metadata": {},
   "source": [
    "## <span style=\"font-family:Georgia; text-align:center;\">Algoritmo 4</span> \n",
    "<span style=\"font-family:Georgia;\">\n",
    "\n",
    "*Dada una cadena, contar cuántas vocales contiene (a, e, i, o, u), ignorando mayúsculas/minúsculas.*"
   ]
  },
  {
   "cell_type": "code",
   "execution_count": 61,
   "id": "4c7fac2f",
   "metadata": {},
   "outputs": [
    {
     "name": "stdout",
     "output_type": "stream",
     "text": [
      "Pruebas contar_vocales: OK\n"
     ]
    }
   ],
   "source": [
    "def contar_vocales(s: str) -> int:\n",
    "    \"\"\"\n",
    "    Cuenta vocales 'a', 'e', 'i', 'o', 'u' ignorando mayúsculas/minúsculas.\n",
    "    \"\"\"\n",
    "    if not isinstance(s, str):\n",
    "        raise TypeError(\"La entrada debe ser str.\")\n",
    "    vocales = set(\"aeiou\")\n",
    "    contador = 0\n",
    "    for c in s.casefold():  # casefold maneja mejor unicode que lower()\n",
    "        if c in vocales:\n",
    "            contador += 1\n",
    "    return contador\n",
    "\n",
    "# Pruebas del enunciado\n",
    "assert contar_vocales(\"Hola Mundo\") == 4\n",
    "assert contar_vocales(\"\") == 0\n",
    "assert contar_vocales(\"xyz\") == 0\n",
    "\n",
    "# Extras\n",
    "assert contar_vocales(\"AEIOU\") == 5\n",
    "assert contar_vocales(\"Python\") == 1\n",
    "\n",
    "print(\"Pruebas contar_vocales: OK\")\n"
   ]
  },
  {
   "cell_type": "markdown",
   "id": "d1a83e4a",
   "metadata": {},
   "source": [
    "## <span style=\"font-family:Georgia; text-align:center;\">Algoritmo 5</span> \n",
    "<span style=\"font-family:Georgia;\">\n",
    "\n",
    "*Leer $N$ y luego $N$ números; devolver el máximo sin usar max().*\n",
    "\n",
    "### <span style=\"font-family:Georgia; text-align:center;\">Programacin modular</span> \n",
    "<span style=\"font-family:Georgia;\">"
   ]
  },
  {
   "cell_type": "code",
   "execution_count": 6,
   "id": "ba7a1ba2",
   "metadata": {},
   "outputs": [],
   "source": [
    "def maximo_sin_max(numeros: list[float]) -> float:\n",
    "    \"\"\"\n",
    "    Retorna el máximo de una colección sin usar max().\n",
    "    Lanza ValueError si la colección está vacía.\n",
    "    \"\"\"\n",
    "    if not numeros:\n",
    "        raise ValueError(\"La colección está vacía.\")\n",
    "    m = numeros[0]\n",
    "    for x in numeros:\n",
    "        if x > m:\n",
    "            m = x\n",
    "    return m\n",
    "\n",
    "def leer_max_desde_texto(cadena: str) -> float:\n",
    "    \"\"\"\n",
    "    Formato: 'N x1 x2 ... xN' separado por espacios/saltos de línea.\n",
    "    Valida que la cantidad de números coincida con N.\n",
    "    \"\"\"\n",
    "    if not isinstance(cadena, str):\n",
    "        raise TypeError(\"La entrada debe ser str.\")\n",
    "    tokens = cadena.split()\n",
    "    if not tokens:\n",
    "        raise ValueError(\"Entrada vacía.\")\n",
    "    try:\n",
    "        n = int(tokens[0])\n",
    "    except ValueError:\n",
    "        raise ValueError(\"El primer token debe ser un entero N.\")\n",
    "    valores = []\n",
    "    for tok in tokens[1:]:\n",
    "        try:\n",
    "            valores.append(float(tok))\n",
    "        except ValueError:\n",
    "            raise ValueError(f\"Token no numérico: {tok!r}\")\n",
    "    if len(valores) != n:\n",
    "        raise ValueError(f\"Se esperaban {n} números, llegaron {len(valores)}.\")\n",
    "    return maximo_sin_max(valores)\n"
   ]
  },
  {
   "cell_type": "code",
   "execution_count": 9,
   "id": "7c6548ad",
   "metadata": {},
   "outputs": [
    {
     "ename": "ValueError",
     "evalue": "La colección está vacía.",
     "output_type": "error",
     "traceback": [
      "\u001b[1;31m---------------------------------------------------------------------------\u001b[0m",
      "\u001b[1;31mValueError\u001b[0m                                Traceback (most recent call last)",
      "Cell \u001b[1;32mIn[9], line 1\u001b[0m\n\u001b[1;32m----> 1\u001b[0m \u001b[43mmaximo_sin_max\u001b[49m\u001b[43m(\u001b[49m\u001b[43m[\u001b[49m\u001b[43m]\u001b[49m\u001b[43m)\u001b[49m\n",
      "Cell \u001b[1;32mIn[6], line 7\u001b[0m, in \u001b[0;36mmaximo_sin_max\u001b[1;34m(numeros)\u001b[0m\n\u001b[0;32m      2\u001b[0m \u001b[38;5;250m\u001b[39m\u001b[38;5;124;03m\"\"\"\u001b[39;00m\n\u001b[0;32m      3\u001b[0m \u001b[38;5;124;03mRetorna el máximo de una colección sin usar max().\u001b[39;00m\n\u001b[0;32m      4\u001b[0m \u001b[38;5;124;03mLanza ValueError si la colección está vacía.\u001b[39;00m\n\u001b[0;32m      5\u001b[0m \u001b[38;5;124;03m\"\"\"\u001b[39;00m\n\u001b[0;32m      6\u001b[0m \u001b[38;5;28;01mif\u001b[39;00m \u001b[38;5;129;01mnot\u001b[39;00m numeros:\n\u001b[1;32m----> 7\u001b[0m     \u001b[38;5;28;01mraise\u001b[39;00m \u001b[38;5;167;01mValueError\u001b[39;00m(\u001b[38;5;124m\"\u001b[39m\u001b[38;5;124mLa colección está vacía.\u001b[39m\u001b[38;5;124m\"\u001b[39m)\n\u001b[0;32m      8\u001b[0m m \u001b[38;5;241m=\u001b[39m numeros[\u001b[38;5;241m0\u001b[39m]\n\u001b[0;32m      9\u001b[0m \u001b[38;5;28;01mfor\u001b[39;00m x \u001b[38;5;129;01min\u001b[39;00m numeros:\n",
      "\u001b[1;31mValueError\u001b[0m: La colección está vacía."
     ]
    }
   ],
   "source": [
    "maximo_sin_max([])"
   ]
  },
  {
   "cell_type": "code",
   "execution_count": 49,
   "id": "a765f264",
   "metadata": {},
   "outputs": [
    {
     "name": "stdout",
     "output_type": "stream",
     "text": [
      "Pruebas máximo sin max(): OK\n"
     ]
    }
   ],
   "source": [
    "assert maximo_sin_max([3, -1, 7, 7, 2]) == 7\n",
    "assert maximo_sin_max([0]) == 0\n",
    "assert maximo_sin_max([-5, -2, -7]) == -2\n",
    "\n",
    "ejemplo_txt = \"5 3 -1 7 7 2\"\n",
    "assert leer_max_desde_texto(ejemplo_txt) == 7\n",
    "\n",
    "print(\"Pruebas máximo sin max(): OK\")\n"
   ]
  },
  {
   "cell_type": "markdown",
   "id": "bdac8250",
   "metadata": {},
   "source": [
    "## <span style=\"font-family:Georgia; text-align:center;\">Algoritmo 6</span> \n",
    "<span style=\"font-family:Georgia;\">\n",
    "\n",
    "*Validar que una contraseña tenga al menos $8$ caracteres, al menos una mayúscula y al menos un dígito.*"
   ]
  },
  {
   "cell_type": "code",
   "execution_count": 62,
   "id": "fb39ba39",
   "metadata": {},
   "outputs": [],
   "source": [
    "def validar_contrasena(pwd: str) -> bool:\n",
    "    \"\"\"\n",
    "    Retorna True si la contraseña cumple:\n",
    "    - Longitud >= 8\n",
    "    - Contiene al menos una mayúscula\n",
    "    - Contiene al menos un dígito\n",
    "    \"\"\"\n",
    "    if not isinstance(pwd, str):\n",
    "        raise TypeError(\"La contraseña debe ser str.\")\n",
    "    longitud_ok = len(pwd) >= 8\n",
    "    mayus_ok = any(c.isupper() for c in pwd)\n",
    "    digito_ok = any(c.isdigit() for c in pwd)\n",
    "    return longitud_ok and mayus_ok and digito_ok\n",
    "\n",
    "def reglas_incumplidas(pwd: str) -> list[str]:\n",
    "    \"\"\"\n",
    "    Devuelve la lista de reglas que NO se cumplen.\n",
    "    \"\"\"\n",
    "    faltas = []\n",
    "    if len(pwd) < 8:\n",
    "        faltas.append(\"Longitud mínima de 8 caracteres.\")\n",
    "    if not any(c.isupper() for c in pwd):\n",
    "        faltas.append(\"Debe contener al menos una mayúscula.\")\n",
    "    if not any(c.isdigit() for c in pwd):\n",
    "        faltas.append(\"Debe contener al menos un dígito.\")\n",
    "    return faltas\n",
    "\n",
    "def validar_con_mensaje(pwd: str) -> str:\n",
    "    \"\"\"\n",
    "    Valida la contraseña y devuelve un mensaje.\n",
    "    \"\"\"\n",
    "    return \"válida\" if validar_contrasena(pwd) else f\"inválida ({'; '.join(reglas_incumplidas(pwd))})\"\n"
   ]
  },
  {
   "cell_type": "code",
   "execution_count": 51,
   "id": "4292a5ae",
   "metadata": {},
   "outputs": [
    {
     "name": "stdout",
     "output_type": "stream",
     "text": [
      "válida\n",
      "inválida (Debe contener al menos una mayúscula.)\n",
      "Pruebas validador de contraseñas: OK\n"
     ]
    }
   ],
   "source": [
    "assert validar_contrasena(\"Abcdef12\") is True\n",
    "assert validar_contrasena(\"abcdef12\") is False  # sin mayúscula\n",
    "assert \"mayúscula\" in \"; \".join(reglas_incumplidas(\"abcdef12\")).lower()\n",
    "assert validar_contrasena(\"ABCDEFGH\") is False  # sin dígito\n",
    "assert validar_contrasena(\"A1b2C3\") is False   # longitud insuficiente\n",
    "\n",
    "print(validar_con_mensaje(\"Abcdef12\"))  # válida\n",
    "print(validar_con_mensaje(\"abcdef12\"))  # inválida (...)\n",
    "print(\"Pruebas validador de contraseñas: OK\")\n"
   ]
  },
  {
   "cell_type": "markdown",
   "id": "22b39e08",
   "metadata": {},
   "source": [
    "## <span style=\"font-family:Georgia; text-align:center;\">Algoritmo 7</span> \n",
    "<span style=\"font-family:Georgia;\">\n",
    "\n",
    "*Convertir un entero no negativo $n$ en su representación en base $b\\in\\{2,3,4,...,16\\}$*"
   ]
  },
  {
   "cell_type": "code",
   "execution_count": 52,
   "id": "76dfeb66",
   "metadata": {},
   "outputs": [],
   "source": [
    "def convertir_base(n: int, b: int) -> str:\n",
    "    \"\"\"\n",
    "    Convierte un entero no negativo n a su representación en base b (2..16).\n",
    "\n",
    "    Parámetros\n",
    "    ----------\n",
    "    n : int  (n >= 0)\n",
    "    b : int  (2 <= b <= 16)\n",
    "\n",
    "    Retorna\n",
    "    -------\n",
    "    str\n",
    "        Representación en base b usando dígitos 0-9 y A-F.\n",
    "\n",
    "    Errores\n",
    "    -------\n",
    "    ValueError si n < 0 o si b está fuera de [2, 16].\n",
    "    \"\"\"\n",
    "    if not isinstance(n, int) or not isinstance(b, int):\n",
    "        raise TypeError(\"n y b deben ser enteros.\")\n",
    "    if n < 0:\n",
    "        raise ValueError(\"n debe ser no negativo.\")\n",
    "    if not (2 <= b <= 16):\n",
    "        raise ValueError(\"b debe estar entre 2 y 16.\")\n",
    "    if n == 0:\n",
    "        return \"0\"\n",
    "\n",
    "    digitos = \"0123456789ABCDEF\"\n",
    "    acumulado: list[str] = []\n",
    "\n",
    "    while n > 0:\n",
    "        n, r = divmod(n, b)\n",
    "        acumulado.append(digitos[r])\n",
    "\n",
    "    return \"\".join(reversed(acumulado))\n"
   ]
  },
  {
   "cell_type": "code",
   "execution_count": null,
   "id": "615a521d",
   "metadata": {},
   "outputs": [
    {
     "name": "stdout",
     "output_type": "stream",
     "text": [
      "Pruebas convertir_base: OK\n"
     ]
    }
   ],
   "source": [
    "assert convertir_base(255, 16) == \"FF\"\n",
    "assert convertir_base(13, 2) == \"1101\"\n",
    "assert convertir_base(0, 2) == \"0\"\n",
    "assert convertir_base(31, 8) == \"37\"\n",
    "assert convertir_base(123456, 16) == hex(123456)[2:].upper()  # comparación con built-in\n",
    "\n",
    "print(\"Pruebas convertir_base: OK\")\n"
   ]
  },
  {
   "cell_type": "code",
   "execution_count": 54,
   "id": "5c2db680",
   "metadata": {},
   "outputs": [
    {
     "data": {
      "application/vnd.jupyter.widget-view+json": {
       "model_id": "6a705938c8ab468abbfa031d558f8209",
       "version_major": 2,
       "version_minor": 0
      },
      "text/plain": [
       "interactive(children=(IntText(value=255, description='n'), Dropdown(description='base', index=14, options=(2, …"
      ]
     },
     "metadata": {},
     "output_type": "display_data"
    }
   ],
   "source": [
    "from ipywidgets import IntText, Dropdown, HBox\n",
    "\n",
    "def ui_convertir_base(n: int, b: int):\n",
    "    try:\n",
    "        print(convertir_base(n, b))\n",
    "    except Exception as e:\n",
    "        print(\"Error:\", e)\n",
    "\n",
    "interact(\n",
    "    ui_convertir_base,\n",
    "    n=IntText(value=255, description=\"n\"),\n",
    "    b=Dropdown(options=list(range(2,17)), value=16, description=\"base\")\n",
    ");\n"
   ]
  }
 ],
 "metadata": {
  "kernelspec": {
   "display_name": "Python 3",
   "language": "python",
   "name": "python3"
  },
  "language_info": {
   "codemirror_mode": {
    "name": "ipython",
    "version": 3
   },
   "file_extension": ".py",
   "mimetype": "text/x-python",
   "name": "python",
   "nbconvert_exporter": "python",
   "pygments_lexer": "ipython3",
   "version": "3.13.1"
  }
 },
 "nbformat": 4,
 "nbformat_minor": 5
}
