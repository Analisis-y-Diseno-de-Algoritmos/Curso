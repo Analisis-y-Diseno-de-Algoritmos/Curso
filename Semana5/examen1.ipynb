{
 "cells": [
  {
   "cell_type": "markdown",
   "id": "f69ee109",
   "metadata": {},
   "source": [
    "# <span style=\"font-family:Georgia; text-align:center;\">Examen 1: Implementar algoritmos con funciones</span> \n",
    "<span style=\"font-family:Georgia;\">\n",
    "\n",
    "\n",
    "**Tiempo:** 2 horas\n",
    "\n",
    "## Instrucciones\n",
    "- No modifiques las **firmas** ni los **docstrings** de las funciones.\n",
    "- Completa **solo el cuerpo** de cada función (donde aparece `pass`).\n",
    "- Puedes crear funciones auxiliares *dentro del mismo bloque* si lo consideras necesario, sin cambiar las firmas dadas.\n",
    "- Salvo que se indique lo contrario, **no utilices librerías externas**.\n",
    "- Si es necesario, reutiliza la funciones de ejercicios anteriores.\n",
    "- En **cada ejercicio** se proporciona **pseudocódigo** y **herramientas necesarias** (recordatorios y ejemplos) para guiar tu implementación; úsalos como orientación y adáptalos al código en Python.\n",
    "\n",
    "\n",
    "---\n"
   ]
  },
  {
   "cell_type": "markdown",
   "id": "cbc5bc07",
   "metadata": {},
   "source": [
    "## <span style=\"font-family:Georgia; text-align:center;\">Recordatorio: Números primos</span> \n",
    "<span style=\"font-family:Georgia;\">\n",
    "\n",
    "Un entero $n \\ge 2$ es **primo** si sus **únicos divisores positivos** son $1$ y $n$.\n",
    "- $0$ y $1$ **no** son primos.\n",
    "- Un **compuesto** es un entero $n \\ge 2$ que tiene un divisor $d$ con $1 < d < n$.\n",
    "- Si $n$ no es primo y $n \\ge 2$, entonces tiene un divisor $d \\le \\lfloor \\sqrt{n} \\rfloor$.\n"
   ]
  },
  {
   "cell_type": "markdown",
   "id": "f082abae",
   "metadata": {},
   "source": [
    "\n",
    "---\n",
    "## <span style=\"font-family:Georgia; text-align:center;\">Ejercicios</span> \n",
    "<span style=\"font-family:Georgia;\">\n",
    "\n",
    "A continuación se presentan las funciones a completar. **No modifiques las firmas ni los docstrings.** Reemplaza `pass` por tu implementación.\n"
   ]
  },
  {
   "cell_type": "markdown",
   "id": "6c26559a",
   "metadata": {},
   "source": [
    "### 1) `es_primo(n: int) -> bool`\n",
    "\n",
    "Implementa un algoritmo que determine si un número entero no negativo es primo. Recuerda que un número primo solo tiene dos divisores: 1 y él mismo. El algoritmo debe verificar los divisores posibles hasta la raíz cuadrada del número para decidir si es primo o no.\n",
    "\n",
    "```\n",
    "Entrada: n (entero >= 0)\n",
    "Si n < 2: retornar False\n",
    "Si n == 2: retornar True\n",
    "Si n es par: retornar False\n",
    "Para i desde 3 hasta floor(sqrt(n)) con paso 2:\n",
    "    Si n mod i == 0: retornar False\n",
    "Retornar True\n",
    "```"
   ]
  },
  {
   "cell_type": "code",
   "execution_count": 4,
   "id": "c18bdfcf",
   "metadata": {},
   "outputs": [],
   "source": [
    "def es_primo(n: int) -> bool:\n",
    "    \"\"\"\n",
    "    Determina si un entero no negativo es primo.\n",
    "\n",
    "    Parámetros\n",
    "    ----------\n",
    "    n : int\n",
    "        Entero n >= 0.\n",
    "\n",
    "    Regresa\n",
    "    -------\n",
    "    bool\n",
    "        True si n es primo, False en otro caso.\n",
    "\n",
    "    Restricciones\n",
    "    -------------\n",
    "    - Implementar una prueba determinística básica (división por posibles factores).\n",
    "    - No usar librerías externas.\n",
    "\n",
    "    Ejemplos\n",
    "    --------\n",
    "    >>> es_primo(2), es_primo(15), es_primo(1)\n",
    "    (True, False, False)\n",
    "    \"\"\"\n",
    "        # Paso 1: Si n < 2 -> no es primo\n",
    "    if n < 2:\n",
    "        return False\n",
    "    # Paso 2: Si n == 2 -> primo\n",
    "    if n == 2:\n",
    "        return True\n",
    "    # Paso 3: Si n es par (y no es 2) -> no es primo\n",
    "    if n % 2 == 0:\n",
    "        return False\n",
    "    # Paso 4: Probar divisores impares hasta floor(sqrt(n))\n",
    "    i = 3\n",
    "    while i * i <= n:\n",
    "        if n % i == 0:  # divisor encontrado -> no es primo\n",
    "            return False\n",
    "        i += 2\n",
    "    # Paso 5: Si no encontramos divisor -> primo\n",
    "    return True\n"
   ]
  },
  {
   "cell_type": "code",
   "execution_count": 5,
   "id": "0848f72e",
   "metadata": {},
   "outputs": [
    {
     "name": "stdout",
     "output_type": "stream",
     "text": [
      "[2, 3, 5, 7, 11, 13, 17, 19]\n"
     ]
    }
   ],
   "source": [
    "print([n for n in range(0, 21) if es_primo(n)])  # [2, 3, 5, 7, 11, 13, 17, 19]"
   ]
  },
  {
   "cell_type": "markdown",
   "id": "c88c0b0e",
   "metadata": {},
   "source": [
    "### 2) `filtrar_primos(numeros: list[int]) -> list[int]`\n",
    "\n",
    "Implementa un algoritmo que reciba una lista de enteros y devuelva una nueva lista que contenga únicamente los números primos, en el mismo orden de aparición. Debes reutilizar la función es_primo que programaste en el ejercicio anterior.\n",
    "\n",
    "```\n",
    "Crear lista resultado vacía\n",
    "Para cada x en numeros:\n",
    "    Si es_primo(x):\n",
    "        agregar x a resultado\n",
    "Retornar resultado\n",
    "```"
   ]
  },
  {
   "cell_type": "code",
   "execution_count": 6,
   "id": "9d02dd10",
   "metadata": {},
   "outputs": [],
   "source": [
    "def filtrar_primos(numeros: list[int]) -> list[int]:\n",
    "    \"\"\"\n",
    "    Devuelve una nueva lista con los números primos en el mismo orden de aparición.\n",
    "\n",
    "    Parámetros\n",
    "    ----------\n",
    "    numeros : list[int]\n",
    "        Lista de enteros (posibles repetidos).\n",
    "\n",
    "    Regresa\n",
    "    -------\n",
    "    list[int]\n",
    "        Sublista con los elementos que son primos.\n",
    "\n",
    "    Notas\n",
    "    -----\n",
    "    - Debe reutilizar la función es_primo.\n",
    "\n",
    "    Ejemplos\n",
    "    --------\n",
    "    >>> filtrar_primos([4, 5, 6, 7, 7, 8])\n",
    "    [5, 7, 7]\n",
    "    \"\"\"\n",
    "    # Paso 1: Crear lista resultado vacía\n",
    "    resultado = []\n",
    "    # Paso 2: Recorrer cada x en numeros\n",
    "    for x in numeros:\n",
    "        # Paso 3: Si es_primo(x) -> agregar a resultado\n",
    "        if es_primo(x):\n",
    "            resultado.append(x)\n",
    "    # Paso 4: Retornar resultado\n",
    "    return resultado\n"
   ]
  },
  {
   "cell_type": "code",
   "execution_count": 7,
   "id": "4abc8c86",
   "metadata": {},
   "outputs": [
    {
     "name": "stdout",
     "output_type": "stream",
     "text": [
      "[5, 7, 7]\n"
     ]
    }
   ],
   "source": [
    "print(filtrar_primos([4, 5, 6, 7, 7, 8]))  # [5, 7, 7]"
   ]
  },
  {
   "cell_type": "markdown",
   "id": "89bee67c",
   "metadata": {},
   "source": [
    "### 3) `rotar_derecha(lista: list, k: int) -> list`\n",
    "\n",
    "Implementa un algoritmo que reciba una lista y un número entero $k$, y devuelva una nueva lista que sea el resultado de rotar la original $k$ posiciones hacia la derecha.\n",
    "Por ejemplo, si la lista es [1, 2, 3, 4] y $k=1$, la lista resultante debe ser [4, 1, 2, 3]. El algoritmo debe manejar valores negativos de $k$ (rotaciones hacia la izquierda) y valores de $k$ mayores que la longitud de la lista.\n",
    "\n",
    "```\n",
    "Si lista está vacía: retornar []\n",
    "n <- longitud(lista)\n",
    "k_norm <- k mod n     (normalizar rotaciones; puede ser negativo)\n",
    "Si k_norm < 0: k_norm <- k_norm + n\n",
    "Partir la lista en dos segmentos:\n",
    "    final <- últimos k_norm elementos\n",
    "    inicio <- los primeros n - k_norm elementos\n",
    "Retornar concatenación final + inicio"
   ]
  },
  {
   "cell_type": "code",
   "execution_count": 8,
   "id": "060d1749",
   "metadata": {},
   "outputs": [],
   "source": [
    "def rotar_derecha(lista: list, k: int) -> list:\n",
    "    \"\"\"\n",
    "    Rota una lista 'k' posiciones a la derecha y devuelve una nueva lista.\n",
    "\n",
    "    Parámetros\n",
    "    ----------\n",
    "    lista : list\n",
    "        Lista (posiblemente vacía).\n",
    "    k : int\n",
    "        Número (positivo, cero o negativo) de rotaciones.\n",
    "\n",
    "    Regresa\n",
    "    -------\n",
    "    list\n",
    "        Nueva lista rotada. La lista original no debe modificarse.\n",
    "\n",
    "    Notas\n",
    "    -----\n",
    "    - Debe manejar k negativos y k mayores que len(lista).\n",
    "    - Si lista == [], regresa [].\n",
    "\n",
    "    Ejemplos\n",
    "    --------\n",
    "    >>> rotar_derecha([1, 2, 3, 4], 1)\n",
    "    [4, 1, 2, 3]\n",
    "    >>> rotar_derecha([1, 2, 3, 4], -1)\n",
    "    [2, 3, 4, 1]\n",
    "    \"\"\"\n",
    "    # Paso 1: Si lista vacía -> []\n",
    "    if not lista:\n",
    "        return []\n",
    "    # Paso 2: n <- longitud(lista)\n",
    "    n = len(lista)\n",
    "    # Paso 3: k_norm <- k mod n (normalizar)\n",
    "    k_norm = k % n\n",
    "    # Paso 4: Si k_norm == 0 -> copia (no rotación)\n",
    "    if k_norm == 0:\n",
    "        return lista[:]\n",
    "    # Paso 5: Partir en dos segmentos\n",
    "    final = lista[-k_norm:]   # últimos k_norm\n",
    "    inicio = lista[:-k_norm]  # primeros n-k_norm\n",
    "    # Paso 6: concatenar final + inicio\n",
    "    return final + inicio\n"
   ]
  },
  {
   "cell_type": "code",
   "execution_count": 9,
   "id": "a992830b",
   "metadata": {},
   "outputs": [
    {
     "name": "stdout",
     "output_type": "stream",
     "text": [
      "[4, 1, 2, 3]\n",
      "[2, 3, 4, 1]\n"
     ]
    }
   ],
   "source": [
    "print(rotar_derecha([1, 2, 3, 4], 1))   # [4, 1, 2, 3]\n",
    "print(rotar_derecha([1, 2, 3, 4], -1))  # [2, 3, 4, 1]"
   ]
  },
  {
   "cell_type": "markdown",
   "id": "265dca44",
   "metadata": {},
   "source": [
    "## <span style=\"font-family:Georgia; text-align:center;\">Recordatorio: Diccionarios en Python</span> \n",
    "<span style=\"font-family:Georgia;\">\n",
    "\n",
    "Un **diccionario** es una estructura que almacena pares **clave–valor**.\n",
    "\n",
    "- Se define con llaves `{}`.  \n",
    "- Cada **clave** es única.  \n",
    "- Los **valores** pueden repetirse.  \n",
    "\n",
    "**Operaciones básicas:**\n",
    "- Crear un diccionario: `d = {\"a\": 1, \"b\": 2}`\n",
    "- Acceder a un valor: `d[\"a\"]` → `1`\n",
    "- Agregar o modificar: `d[\"c\"] = 3`\n",
    "- Recorrer claves y valores:  \n",
    "  ```python\n",
    "  for clave, valor in d.items():\n",
    "      print(clave, valor)\n",
    "\n",
    "**Ejemplo**\n"
   ]
  },
  {
   "cell_type": "code",
   "execution_count": 10,
   "id": "06c903d5",
   "metadata": {},
   "outputs": [
    {
     "name": "stdout",
     "output_type": "stream",
     "text": [
      "{'gato': 2, 'perro': 1}\n"
     ]
    }
   ],
   "source": [
    "# Crear un diccionario vacío\n",
    "frecuencias = {}\n",
    "\n",
    "# Lista de palabras\n",
    "palabras = [\"gato\", \"perro\", \"gato\"]\n",
    "\n",
    "# Contar ocurrencias\n",
    "for palabra in palabras:\n",
    "    if palabra not in frecuencias:\n",
    "        frecuencias[palabra] = 0\n",
    "    frecuencias[palabra] += 1\n",
    "\n",
    "print(frecuencias)  # {'gato': 2, 'perro': 1}\n"
   ]
  },
  {
   "cell_type": "markdown",
   "id": "f64f4d68",
   "metadata": {},
   "source": [
    "### 4) `frecuencias_palabras(tokens: list[str]) -> dict[str, int]`\n",
    "\n",
    "Implementa un algoritmo que reciba una lista de palabras (tokens) y devuelva un diccionario donde cada palabra esté asociada con la cantidad de veces que aparece en la lista. El objetivo es contar frecuencias de manera eficiente.\n",
    "\n",
    "```\n",
    "dic <- diccionario vacío\n",
    "Para cada t en tokens:\n",
    "    si t no está en dic: dic[t] <- 0\n",
    "    dic[t] <- dic[t] + 1\n",
    "Retornar dic\n",
    "```"
   ]
  },
  {
   "cell_type": "code",
   "execution_count": 11,
   "id": "0f9bf913",
   "metadata": {},
   "outputs": [],
   "source": [
    "def frecuencias_palabras(tokens: list[str]) -> dict[str, int]:\n",
    "    \"\"\"\n",
    "    Cuenta la frecuencia de cada token.\n",
    "\n",
    "    Parámetros\n",
    "    ----------\n",
    "    tokens : list[str]\n",
    "        Lista de palabras.\n",
    "\n",
    "    Regresa\n",
    "    -------\n",
    "    dict[str, int]\n",
    "        Diccionario {palabra: conteo}.\n",
    "\n",
    "    Ejemplos\n",
    "    --------\n",
    "    >>> frecuencias_palabras(['a', 'b', 'a'])\n",
    "    {'a': 2, 'b': 1}\n",
    "    \"\"\"\n",
    "    # Paso 1: diccionario vacío\n",
    "    dic = {}\n",
    "    # Paso 2: recorrer tokens\n",
    "    for t in tokens:\n",
    "        # Paso 3: si t no está, inicializar a 0\n",
    "        if t not in dic:\n",
    "            dic[t] = 0\n",
    "        # Paso 4: incrementar\n",
    "        dic[t] += 1\n",
    "    # Paso 5: retornar dic\n",
    "    return dic\n"
   ]
  },
  {
   "cell_type": "code",
   "execution_count": 12,
   "id": "29c76e9b",
   "metadata": {},
   "outputs": [
    {
     "name": "stdout",
     "output_type": "stream",
     "text": [
      "{'a': 2, 'b': 1}\n"
     ]
    }
   ],
   "source": [
    "print(frecuencias_palabras(['a', 'b', 'a']))  # {'a': 2, 'b': 1}"
   ]
  },
  {
   "cell_type": "markdown",
   "id": "05e064dc",
   "metadata": {},
   "source": [
    "### 5) `palabra_mas_frecuente(frecuencias: dict[str, int]) -> tuple[str, int]`\n",
    "\n",
    "Implementa un algoritmo que reciba un diccionario de frecuencias de palabras (como el que devuelve el ejercicio anterior) y determine cuál es la palabra más frecuente y cuántas veces aparece.\n",
    "En caso de empate, el algoritmo debe devolver la palabra que aparezca antes en orden alfabético.\n",
    "\n",
    "```\n",
    "Si frecuencias está vacío: retornar (\"\", 0)\n",
    "mejor_pal <- \"\"\n",
    "mejor_cont <- -inf\n",
    "Para cada (pal, cont) en frecuencias:\n",
    "    Si cont > mejor_cont:\n",
    "        mejor_pal <- pal; mejor_cont <- cont\n",
    "    Si cont == mejor_cont y pal < mejor_pal (orden alfabético):\n",
    "        mejor_pal <- pal\n",
    "Retornar (mejor_pal, mejor_cont)\n",
    "```"
   ]
  },
  {
   "cell_type": "code",
   "execution_count": 13,
   "id": "c5d10784",
   "metadata": {},
   "outputs": [],
   "source": [
    "def palabra_mas_frecuente(frecuencias: dict[str, int]) -> tuple[str, int]:\n",
    "    \"\"\"\n",
    "    Devuelve la palabra más frecuente y su conteo. Desempata por orden alfabético.\n",
    "\n",
    "    Parámetros\n",
    "    ----------\n",
    "    frecuencias : dict[str, int]\n",
    "        Diccionario de frecuencias.\n",
    "\n",
    "    Regresa\n",
    "    -------\n",
    "    tuple[str, int]\n",
    "        (palabra, conteo). Si frecuencias está vacío, regresa (\"\", 0).\n",
    "\n",
    "    Ejemplos\n",
    "    --------\n",
    "    >>> palabra_mas_frecuente({'hola': 2, 'mundo': 2, 'adios': 1})\n",
    "    ('hola', 2)\n",
    "    >>> palabra_mas_frecuente({})\n",
    "    ('', 0)\n",
    "    \"\"\"\n",
    "    # Paso 1: si diccionario vacío -> (\"\", 0)\n",
    "    if not frecuencias:\n",
    "        return (\"\", 0)\n",
    "    # Paso 2: llevar mejor_pal y mejor_cont\n",
    "    mejor_pal = \"\"\n",
    "    mejor_cont = -1\n",
    "    # Paso 3: recorrer (pal, cont)\n",
    "    for pal, cont in frecuencias.items():\n",
    "        # Paso 4: actualizar si cont mayor\n",
    "        if cont > mejor_cont:\n",
    "            mejor_pal = pal\n",
    "            mejor_cont = cont\n",
    "        # Paso 5: empate -> desempatar por orden alfabético\n",
    "        elif cont == mejor_cont and pal < mejor_pal:\n",
    "            mejor_pal = pal\n",
    "    # Paso 6: retornar (mejor_pal, mejor_cont)\n",
    "    return (mejor_pal, mejor_cont)\n"
   ]
  },
  {
   "cell_type": "code",
   "execution_count": 14,
   "id": "9fcabdd6",
   "metadata": {},
   "outputs": [
    {
     "name": "stdout",
     "output_type": "stream",
     "text": [
      "('hola', 2)\n"
     ]
    }
   ],
   "source": [
    "print(palabra_mas_frecuente({'hola': 2, 'mundo': 2, 'adios': 1}))  # ('hola', 2)"
   ]
  },
  {
   "cell_type": "markdown",
   "id": "bad9b702",
   "metadata": {},
   "source": [
    "### 6) `es_anagrama(a: str, b: str) -> bool`\n",
    "\n",
    "Implementa un algoritmo que determine si dos cadenas de texto son anagramas. Dos cadenas son anagramas si contienen las mismas letras con la misma frecuencia, sin importar el orden.\n",
    "El algoritmo debe ignorar mayúsculas, espacios y signos de puntuación básicos (.,;:!?¿¡\"()[]{}).\n",
    "```\n",
    "Definir conjunto de signos a ignorar: . , ; : ! ? ¿ ¡ \" ( ) [ ] { } y espacio\n",
    "Función limpiar(cadena):\n",
    "    convertir a minúsculas\n",
    "    construir nueva_cadena con caracteres que NO estén en el conjunto anterior\n",
    "    (no eliminar acentos)\n",
    "sa <- limpiar(a)\n",
    "sb <- limpiar(b)\n",
    "\n",
    "Opción A (conteo):\n",
    "    contar frecuencia de cada carácter en sa y en sb\n",
    "    retornar True si los diccionarios de frecuencias son idénticos\n",
    "\n",
    "Opción B (ordenar):\n",
    "    retornar True si ordenar(sa) == ordenar(sb)\n",
    "```"
   ]
  },
  {
   "cell_type": "code",
   "execution_count": null,
   "id": "2d8d732a",
   "metadata": {},
   "outputs": [],
   "source": [
    "def es_anagrama(a: str, b: str) -> bool:\n",
    "    \"\"\"\n",
    "    Determina si dos cadenas son anagramas al ignorar espacios y puntuación. No distingue mayúsculas.\n",
    "\n",
    "    Parámetros\n",
    "    ----------\n",
    "    a : str\n",
    "        Primera cadena.\n",
    "    b : str\n",
    "        Segunda cadena.\n",
    "\n",
    "    Regresa\n",
    "    -------\n",
    "    bool\n",
    "        True si son anagramas, False en otro caso.\n",
    "\n",
    "    Notas\n",
    "    -----\n",
    "    - Ignora: espacios y los signos . , ; : ! ? ¿ ¡ \" ( ) [ ] { }\n",
    "    - No elimina acentos (á != a).\n",
    "\n",
    "    Ejemplos\n",
    "    --------\n",
    "    >>> es_anagrama('Roma', 'amor')\n",
    "    True\n",
    "    >>> es_anagrama('Lento', 'soltén')\n",
    "    False\n",
    "    \"\"\"\n",
    "    # Paso 1: definir signos a ignorar \n",
    "    ignorar = ['.', ',', ';', ':', '!', '?', '¿', '¡', '\"', '(', ')', '[', ']', '{', '}']\n",
    "    # Paso 2: función limpiar: minúsculas + quitar signos/espacios\n",
    "    def limpiar(s: str) -> str:\n",
    "        s = s.lower()\n",
    "        limpio = []\n",
    "        for ch in s:\n",
    "            if ch not in ignorar:\n",
    "                limpio.append(ch)\n",
    "        return \"\".join(limpio)  # (no quitamos acentos)\n",
    "\n",
    "    # Paso 3: limpiar ambas cadenas\n",
    "    sa = limpiar(a)\n",
    "    sb = limpiar(b)\n",
    "\n",
    "    # Opción A (conteo): comparar frecuencias de caracteres\n",
    "    def contar_chars(cadena: str) -> dict[str, int]:\n",
    "        d = {}\n",
    "        for ch in cadena:\n",
    "            if ch not in d:\n",
    "                d[ch] = 0\n",
    "            d[ch] += 1\n",
    "        return d\n",
    "\n",
    "    # Paso 4: comparar diccionarios de frecuencias\n",
    "    return contar_chars(sa) == contar_chars(sb)\n"
   ]
  },
  {
   "cell_type": "code",
   "execution_count": 21,
   "id": "941d52a3",
   "metadata": {},
   "outputs": [
    {
     "name": "stdout",
     "output_type": "stream",
     "text": [
      "True\n",
      "False\n"
     ]
    }
   ],
   "source": [
    "print(es_anagrama('Roma', 'amor'))  # True\n",
    "print(es_anagrama('Lento', 'soltén'))  # False (por acento)"
   ]
  },
  {
   "cell_type": "markdown",
   "id": "6b5aa978",
   "metadata": {},
   "source": [
    "### 7) `comprimir_rle(cadena: str) -> str`\n",
    "\n",
    "Implementa un algoritmo que comprima una cadena usando Run-Length Encoding (RLE). Este método consiste en reemplazar cada secuencia de caracteres repetidos por el carácter seguido de la cantidad de repeticiones consecutivas.\n",
    "\n",
    "\n",
    "```\n",
    "Si cadena es vacía: retornar \"\"\n",
    "inicializar resultado como cadena vacía\n",
    "car_actual <- cadena[0]\n",
    "conteo <- 1\n",
    "Para i desde 1 hasta len(cadena)-1:\n",
    "    si cadena[i] == car_actual:\n",
    "        conteo <- conteo + 1\n",
    "    si no:\n",
    "        agregar a resultado: car_actual + str(conteo)\n",
    "        car_actual <- cadena[i]\n",
    "        conteo <- 1\n",
    "Al final del ciclo:\n",
    "    agregar a resultado: car_actual + str(conteo)\n",
    "Retornar resultado\n",
    "```"
   ]
  },
  {
   "cell_type": "code",
   "execution_count": 18,
   "id": "5ce261fa",
   "metadata": {},
   "outputs": [],
   "source": [
    "def comprimir_rle(cadena: str) -> str:\n",
    "    \"\"\"\n",
    "    Comprime por longitud de rachas (Run-Length Encoding). \n",
    "    Ejemplo: 'aaabbc' -> 'a3b2c1'.\n",
    "\n",
    "    Parámetros\n",
    "    ----------\n",
    "    cadena : str\n",
    "        Cadena de entrada (puede estar vacía).\n",
    "\n",
    "    Regresa\n",
    "    -------\n",
    "    str\n",
    "        Cadena comprimida con el formato letra+conteo.\n",
    "\n",
    "    Ejemplos\n",
    "    --------\n",
    "    >>> comprimir_rle('')\n",
    "    ''\n",
    "    >>> comprimir_rle('abbccc')\n",
    "    'a1b2c3'\n",
    "    \"\"\"\n",
    "    # Paso 1: si cadena vacía -> \"\"\n",
    "    if not cadena:\n",
    "        return \"\"\n",
    "    # Paso 2: iniciar resultado, car_actual y conteo\n",
    "    resultado = []\n",
    "    car_actual = cadena[0]\n",
    "    conteo = 1\n",
    "    # Paso 3: recorrer desde el segundo carácter\n",
    "    for i in range(1, len(cadena)):\n",
    "        # Paso 4: si mismo carácter -> aumentar conteo\n",
    "        if cadena[i] == car_actual:\n",
    "            conteo += 1\n",
    "        else:\n",
    "            # Paso 5: si cambia -> agregar \"car+conteo\" y actualizar\n",
    "            resultado.append(car_actual + str(conteo))\n",
    "            car_actual = cadena[i]\n",
    "            conteo = 1\n",
    "    # Paso 6: agregar la última racha\n",
    "    resultado.append(car_actual + str(conteo))\n",
    "    # Paso 7: unir y retornar\n",
    "    return \"\".join(resultado)\n"
   ]
  },
  {
   "cell_type": "code",
   "execution_count": 19,
   "id": "e0f3b0d8",
   "metadata": {},
   "outputs": [
    {
     "name": "stdout",
     "output_type": "stream",
     "text": [
      "\n",
      "a1b2c3\n"
     ]
    }
   ],
   "source": [
    "print(comprimir_rle(''))        # ''\n",
    "print(comprimir_rle('abbccc'))  # 'a1b2c3'"
   ]
  }
 ],
 "metadata": {
  "kernelspec": {
   "display_name": "Python 3",
   "language": "python",
   "name": "python3"
  },
  "language_info": {
   "codemirror_mode": {
    "name": "ipython",
    "version": 3
   },
   "file_extension": ".py",
   "mimetype": "text/x-python",
   "name": "python",
   "nbconvert_exporter": "python",
   "pygments_lexer": "ipython3",
   "version": "3.13.1"
  }
 },
 "nbformat": 4,
 "nbformat_minor": 5
}
